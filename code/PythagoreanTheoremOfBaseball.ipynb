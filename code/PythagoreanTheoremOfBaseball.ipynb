{
 "cells": [
  {
   "cell_type": "markdown",
   "metadata": {},
   "source": [
    "## Part One  \n",
    "#### Pythagorean Theorem of Baseball\n",
    "<br>"
   ]
  },
  {
   "cell_type": "code",
   "execution_count": 1,
   "metadata": {},
   "outputs": [],
   "source": [
    "import numpy as np\n",
    "import pandas as pd\n",
    "import matplotlib.pyplot as plt"
   ]
  },
  {
   "cell_type": "code",
   "execution_count": 2,
   "metadata": {},
   "outputs": [],
   "source": [
    "records = pd.read_csv('../stats/records.csv')\n",
    "off_stats = pd.read_csv('../stats/offensive_stats.csv')\n",
    "def_stats = pd.read_csv('../stats/defensive_stats.csv')"
   ]
  },
  {
   "cell_type": "code",
   "execution_count": 3,
   "metadata": {},
   "outputs": [],
   "source": [
    "pythag_table = records.copy()"
   ]
  },
  {
   "cell_type": "code",
   "execution_count": 4,
   "metadata": {},
   "outputs": [
    {
     "data": {
      "text/html": [
       "<div>\n",
       "<style scoped>\n",
       "    .dataframe tbody tr th:only-of-type {\n",
       "        vertical-align: middle;\n",
       "    }\n",
       "\n",
       "    .dataframe tbody tr th {\n",
       "        vertical-align: top;\n",
       "    }\n",
       "\n",
       "    .dataframe thead th {\n",
       "        text-align: right;\n",
       "    }\n",
       "</style>\n",
       "<table border=\"1\" class=\"dataframe\">\n",
       "  <thead>\n",
       "    <tr style=\"text-align: right;\">\n",
       "      <th></th>\n",
       "      <th>team_id</th>\n",
       "      <th>team</th>\n",
       "      <th>year</th>\n",
       "      <th>wins</th>\n",
       "      <th>losses</th>\n",
       "      <th>win_%</th>\n",
       "      <th>singles</th>\n",
       "      <th>doubles</th>\n",
       "      <th>triples</th>\n",
       "      <th>home_runs</th>\n",
       "      <th>...</th>\n",
       "      <th>hits</th>\n",
       "      <th>ab</th>\n",
       "      <th>avg</th>\n",
       "      <th>obs</th>\n",
       "      <th>slugging</th>\n",
       "      <th>ops</th>\n",
       "      <th>so_%</th>\n",
       "      <th>hr_%</th>\n",
       "      <th>walk_%</th>\n",
       "      <th>hits_to_run</th>\n",
       "    </tr>\n",
       "  </thead>\n",
       "  <tbody>\n",
       "    <tr>\n",
       "      <th>0</th>\n",
       "      <td>201501</td>\n",
       "      <td>chn</td>\n",
       "      <td>2015</td>\n",
       "      <td>97</td>\n",
       "      <td>65</td>\n",
       "      <td>0.598765</td>\n",
       "      <td>819</td>\n",
       "      <td>286</td>\n",
       "      <td>37</td>\n",
       "      <td>134</td>\n",
       "      <td>...</td>\n",
       "      <td>1276</td>\n",
       "      <td>5005</td>\n",
       "      <td>0.254945</td>\n",
       "      <td>0.315301</td>\n",
       "      <td>0.407193</td>\n",
       "      <td>0.722493</td>\n",
       "      <td>0.255810</td>\n",
       "      <td>0.023954</td>\n",
       "      <td>0.081337</td>\n",
       "      <td>1.851959</td>\n",
       "    </tr>\n",
       "    <tr>\n",
       "      <th>1</th>\n",
       "      <td>201502</td>\n",
       "      <td>sea</td>\n",
       "      <td>2015</td>\n",
       "      <td>77</td>\n",
       "      <td>85</td>\n",
       "      <td>0.475309</td>\n",
       "      <td>941</td>\n",
       "      <td>285</td>\n",
       "      <td>23</td>\n",
       "      <td>181</td>\n",
       "      <td>...</td>\n",
       "      <td>1430</td>\n",
       "      <td>5164</td>\n",
       "      <td>0.276917</td>\n",
       "      <td>0.346000</td>\n",
       "      <td>0.446166</td>\n",
       "      <td>0.792166</td>\n",
       "      <td>0.219658</td>\n",
       "      <td>0.030940</td>\n",
       "      <td>0.096410</td>\n",
       "      <td>2.179878</td>\n",
       "    </tr>\n",
       "    <tr>\n",
       "      <th>2</th>\n",
       "      <td>201503</td>\n",
       "      <td>mia</td>\n",
       "      <td>2015</td>\n",
       "      <td>71</td>\n",
       "      <td>91</td>\n",
       "      <td>0.438272</td>\n",
       "      <td>926</td>\n",
       "      <td>278</td>\n",
       "      <td>29</td>\n",
       "      <td>141</td>\n",
       "      <td>...</td>\n",
       "      <td>1374</td>\n",
       "      <td>4923</td>\n",
       "      <td>0.279098</td>\n",
       "      <td>0.349224</td>\n",
       "      <td>0.433272</td>\n",
       "      <td>0.782496</td>\n",
       "      <td>0.204836</td>\n",
       "      <td>0.025071</td>\n",
       "      <td>0.099573</td>\n",
       "      <td>2.241436</td>\n",
       "    </tr>\n",
       "    <tr>\n",
       "      <th>3</th>\n",
       "      <td>201504</td>\n",
       "      <td>tba</td>\n",
       "      <td>2015</td>\n",
       "      <td>80</td>\n",
       "      <td>82</td>\n",
       "      <td>0.493827</td>\n",
       "      <td>888</td>\n",
       "      <td>232</td>\n",
       "      <td>19</td>\n",
       "      <td>175</td>\n",
       "      <td>...</td>\n",
       "      <td>1314</td>\n",
       "      <td>5060</td>\n",
       "      <td>0.259684</td>\n",
       "      <td>0.326933</td>\n",
       "      <td>0.416798</td>\n",
       "      <td>0.743732</td>\n",
       "      <td>0.237820</td>\n",
       "      <td>0.030669</td>\n",
       "      <td>0.092008</td>\n",
       "      <td>2.040373</td>\n",
       "    </tr>\n",
       "    <tr>\n",
       "      <th>4</th>\n",
       "      <td>201505</td>\n",
       "      <td>phi</td>\n",
       "      <td>2015</td>\n",
       "      <td>63</td>\n",
       "      <td>99</td>\n",
       "      <td>0.388889</td>\n",
       "      <td>1068</td>\n",
       "      <td>300</td>\n",
       "      <td>33</td>\n",
       "      <td>191</td>\n",
       "      <td>...</td>\n",
       "      <td>1592</td>\n",
       "      <td>5174</td>\n",
       "      <td>0.307692</td>\n",
       "      <td>0.371770</td>\n",
       "      <td>0.489177</td>\n",
       "      <td>0.860947</td>\n",
       "      <td>0.195955</td>\n",
       "      <td>0.032461</td>\n",
       "      <td>0.093814</td>\n",
       "      <td>2.543131</td>\n",
       "    </tr>\n",
       "  </tbody>\n",
       "</table>\n",
       "<p>5 rows × 32 columns</p>\n",
       "</div>"
      ],
      "text/plain": [
       "   team_id team  year  wins  losses     win_%  singles  doubles  triples  \\\n",
       "0   201501  chn  2015    97      65  0.598765      819      286       37   \n",
       "1   201502  sea  2015    77      85  0.475309      941      285       23   \n",
       "2   201503  mia  2015    71      91  0.438272      926      278       29   \n",
       "3   201504  tba  2015    80      82  0.493827      888      232       19   \n",
       "4   201505  phi  2015    63      99  0.388889     1068      300       33   \n",
       "\n",
       "   home_runs  ...  hits    ab       avg       obs  slugging       ops  \\\n",
       "0        134  ...  1276  5005  0.254945  0.315301  0.407193  0.722493   \n",
       "1        181  ...  1430  5164  0.276917  0.346000  0.446166  0.792166   \n",
       "2        141  ...  1374  4923  0.279098  0.349224  0.433272  0.782496   \n",
       "3        175  ...  1314  5060  0.259684  0.326933  0.416798  0.743732   \n",
       "4        191  ...  1592  5174  0.307692  0.371770  0.489177  0.860947   \n",
       "\n",
       "       so_%      hr_%    walk_%  hits_to_run  \n",
       "0  0.255810  0.023954  0.081337     1.851959  \n",
       "1  0.219658  0.030940  0.096410     2.179878  \n",
       "2  0.204836  0.025071  0.099573     2.241436  \n",
       "3  0.237820  0.030669  0.092008     2.040373  \n",
       "4  0.195955  0.032461  0.093814     2.543131  \n",
       "\n",
       "[5 rows x 32 columns]"
      ]
     },
     "execution_count": 4,
     "metadata": {},
     "output_type": "execute_result"
    }
   ],
   "source": [
    "off_stats.head()"
   ]
  },
  {
   "cell_type": "code",
   "execution_count": 5,
   "metadata": {},
   "outputs": [
    {
     "data": {
      "text/html": [
       "<div>\n",
       "<style scoped>\n",
       "    .dataframe tbody tr th:only-of-type {\n",
       "        vertical-align: middle;\n",
       "    }\n",
       "\n",
       "    .dataframe tbody tr th {\n",
       "        vertical-align: top;\n",
       "    }\n",
       "\n",
       "    .dataframe thead th {\n",
       "        text-align: right;\n",
       "    }\n",
       "</style>\n",
       "<table border=\"1\" class=\"dataframe\">\n",
       "  <thead>\n",
       "    <tr style=\"text-align: right;\">\n",
       "      <th></th>\n",
       "      <th>team_id</th>\n",
       "      <th>team</th>\n",
       "      <th>year</th>\n",
       "      <th>wins</th>\n",
       "      <th>losses</th>\n",
       "      <th>win_%</th>\n",
       "      <th>singles</th>\n",
       "      <th>doubles</th>\n",
       "      <th>triples</th>\n",
       "      <th>home_runs</th>\n",
       "      <th>...</th>\n",
       "      <th>trip/pa</th>\n",
       "      <th>hr/pa</th>\n",
       "      <th>avg</th>\n",
       "      <th>obs</th>\n",
       "      <th>slugging</th>\n",
       "      <th>ops</th>\n",
       "      <th>so_%</th>\n",
       "      <th>hr_%</th>\n",
       "      <th>walk_%</th>\n",
       "      <th>hits_to_run</th>\n",
       "    </tr>\n",
       "  </thead>\n",
       "  <tbody>\n",
       "    <tr>\n",
       "      <th>0</th>\n",
       "      <td>201501</td>\n",
       "      <td>chn</td>\n",
       "      <td>2015</td>\n",
       "      <td>97</td>\n",
       "      <td>65</td>\n",
       "      <td>0.598765</td>\n",
       "      <td>819</td>\n",
       "      <td>286</td>\n",
       "      <td>37</td>\n",
       "      <td>134</td>\n",
       "      <td>...</td>\n",
       "      <td>0.006620</td>\n",
       "      <td>0.023976</td>\n",
       "      <td>0.254945</td>\n",
       "      <td>0.317033</td>\n",
       "      <td>0.407193</td>\n",
       "      <td>0.722493</td>\n",
       "      <td>0.256039</td>\n",
       "      <td>0.023976</td>\n",
       "      <td>0.081410</td>\n",
       "      <td>2.098684</td>\n",
       "    </tr>\n",
       "    <tr>\n",
       "      <th>1</th>\n",
       "      <td>201502</td>\n",
       "      <td>sea</td>\n",
       "      <td>2015</td>\n",
       "      <td>77</td>\n",
       "      <td>85</td>\n",
       "      <td>0.475309</td>\n",
       "      <td>941</td>\n",
       "      <td>285</td>\n",
       "      <td>23</td>\n",
       "      <td>181</td>\n",
       "      <td>...</td>\n",
       "      <td>0.003930</td>\n",
       "      <td>0.030924</td>\n",
       "      <td>0.276917</td>\n",
       "      <td>0.348115</td>\n",
       "      <td>0.446166</td>\n",
       "      <td>0.792166</td>\n",
       "      <td>0.219546</td>\n",
       "      <td>0.030924</td>\n",
       "      <td>0.096361</td>\n",
       "      <td>1.972414</td>\n",
       "    </tr>\n",
       "    <tr>\n",
       "      <th>2</th>\n",
       "      <td>201503</td>\n",
       "      <td>mia</td>\n",
       "      <td>2015</td>\n",
       "      <td>71</td>\n",
       "      <td>91</td>\n",
       "      <td>0.438272</td>\n",
       "      <td>926</td>\n",
       "      <td>278</td>\n",
       "      <td>29</td>\n",
       "      <td>141</td>\n",
       "      <td>...</td>\n",
       "      <td>0.005152</td>\n",
       "      <td>0.025049</td>\n",
       "      <td>0.279098</td>\n",
       "      <td>0.352727</td>\n",
       "      <td>0.433272</td>\n",
       "      <td>0.782496</td>\n",
       "      <td>0.204654</td>\n",
       "      <td>0.025049</td>\n",
       "      <td>0.099485</td>\n",
       "      <td>2.026549</td>\n",
       "    </tr>\n",
       "    <tr>\n",
       "      <th>3</th>\n",
       "      <td>201504</td>\n",
       "      <td>tba</td>\n",
       "      <td>2015</td>\n",
       "      <td>80</td>\n",
       "      <td>82</td>\n",
       "      <td>0.493827</td>\n",
       "      <td>888</td>\n",
       "      <td>232</td>\n",
       "      <td>19</td>\n",
       "      <td>175</td>\n",
       "      <td>...</td>\n",
       "      <td>0.003322</td>\n",
       "      <td>0.030600</td>\n",
       "      <td>0.259684</td>\n",
       "      <td>0.329275</td>\n",
       "      <td>0.416798</td>\n",
       "      <td>0.743732</td>\n",
       "      <td>0.237279</td>\n",
       "      <td>0.030600</td>\n",
       "      <td>0.091799</td>\n",
       "      <td>2.046729</td>\n",
       "    </tr>\n",
       "    <tr>\n",
       "      <th>4</th>\n",
       "      <td>201505</td>\n",
       "      <td>phi</td>\n",
       "      <td>2015</td>\n",
       "      <td>63</td>\n",
       "      <td>99</td>\n",
       "      <td>0.388889</td>\n",
       "      <td>1068</td>\n",
       "      <td>300</td>\n",
       "      <td>33</td>\n",
       "      <td>191</td>\n",
       "      <td>...</td>\n",
       "      <td>0.005613</td>\n",
       "      <td>0.032489</td>\n",
       "      <td>0.307692</td>\n",
       "      <td>0.374432</td>\n",
       "      <td>0.489177</td>\n",
       "      <td>0.860947</td>\n",
       "      <td>0.196122</td>\n",
       "      <td>0.032489</td>\n",
       "      <td>0.093894</td>\n",
       "      <td>1.967862</td>\n",
       "    </tr>\n",
       "  </tbody>\n",
       "</table>\n",
       "<p>5 rows × 32 columns</p>\n",
       "</div>"
      ],
      "text/plain": [
       "   team_id team  year  wins  losses     win_%  singles  doubles  triples  \\\n",
       "0   201501  chn  2015    97      65  0.598765      819      286       37   \n",
       "1   201502  sea  2015    77      85  0.475309      941      285       23   \n",
       "2   201503  mia  2015    71      91  0.438272      926      278       29   \n",
       "3   201504  tba  2015    80      82  0.493827      888      232       19   \n",
       "4   201505  phi  2015    63      99  0.388889     1068      300       33   \n",
       "\n",
       "   home_runs  ...   trip/pa     hr/pa       avg       obs  slugging       ops  \\\n",
       "0        134  ...  0.006620  0.023976  0.254945  0.317033  0.407193  0.722493   \n",
       "1        181  ...  0.003930  0.030924  0.276917  0.348115  0.446166  0.792166   \n",
       "2        141  ...  0.005152  0.025049  0.279098  0.352727  0.433272  0.782496   \n",
       "3        175  ...  0.003322  0.030600  0.259684  0.329275  0.416798  0.743732   \n",
       "4        191  ...  0.005613  0.032489  0.307692  0.374432  0.489177  0.860947   \n",
       "\n",
       "       so_%      hr_%    walk_%  hits_to_run  \n",
       "0  0.256039  0.023976  0.081410     2.098684  \n",
       "1  0.219546  0.030924  0.096361     1.972414  \n",
       "2  0.204654  0.025049  0.099485     2.026549  \n",
       "3  0.237279  0.030600  0.091799     2.046729  \n",
       "4  0.196122  0.032489  0.093894     1.967862  \n",
       "\n",
       "[5 rows x 32 columns]"
      ]
     },
     "execution_count": 5,
     "metadata": {},
     "output_type": "execute_result"
    }
   ],
   "source": [
    "def_stats.head()"
   ]
  },
  {
   "cell_type": "code",
   "execution_count": 6,
   "metadata": {},
   "outputs": [],
   "source": [
    "pythag_table.sort_values('team_id', inplace=True)\n",
    "off_stats.sort_values('team_id', inplace=True)\n",
    "def_stats.sort_values('team_id', inplace=True)\n",
    "\n",
    "pythag_table['runs_scored'] = off_stats['runs']\n",
    "pythag_table['runs_allowed'] = def_stats['runs']"
   ]
  },
  {
   "cell_type": "code",
   "execution_count": 7,
   "metadata": {},
   "outputs": [],
   "source": [
    "pythag_table['pythag_win_estimate'] = ((pythag_table['runs_scored']**2) \n",
    "                                       / ((pythag_table['runs_scored']**2) + (pythag_table['runs_allowed']**2)))"
   ]
  },
  {
   "cell_type": "code",
   "execution_count": 8,
   "metadata": {},
   "outputs": [
    {
     "data": {
      "text/html": [
       "<div>\n",
       "<style scoped>\n",
       "    .dataframe tbody tr th:only-of-type {\n",
       "        vertical-align: middle;\n",
       "    }\n",
       "\n",
       "    .dataframe tbody tr th {\n",
       "        vertical-align: top;\n",
       "    }\n",
       "\n",
       "    .dataframe thead th {\n",
       "        text-align: right;\n",
       "    }\n",
       "</style>\n",
       "<table border=\"1\" class=\"dataframe\">\n",
       "  <thead>\n",
       "    <tr style=\"text-align: right;\">\n",
       "      <th></th>\n",
       "      <th>team_id</th>\n",
       "      <th>team</th>\n",
       "      <th>year</th>\n",
       "      <th>wins</th>\n",
       "      <th>losses</th>\n",
       "      <th>win_%</th>\n",
       "      <th>runs_scored</th>\n",
       "      <th>runs_allowed</th>\n",
       "      <th>pythag_win_estimate</th>\n",
       "    </tr>\n",
       "  </thead>\n",
       "  <tbody>\n",
       "    <tr>\n",
       "      <th>0</th>\n",
       "      <td>201501</td>\n",
       "      <td>chn</td>\n",
       "      <td>2015</td>\n",
       "      <td>97</td>\n",
       "      <td>65</td>\n",
       "      <td>0.598765</td>\n",
       "      <td>689</td>\n",
       "      <td>608</td>\n",
       "      <td>0.562209</td>\n",
       "    </tr>\n",
       "    <tr>\n",
       "      <th>1</th>\n",
       "      <td>201502</td>\n",
       "      <td>sea</td>\n",
       "      <td>2015</td>\n",
       "      <td>77</td>\n",
       "      <td>85</td>\n",
       "      <td>0.475309</td>\n",
       "      <td>656</td>\n",
       "      <td>725</td>\n",
       "      <td>0.450161</td>\n",
       "    </tr>\n",
       "    <tr>\n",
       "      <th>2</th>\n",
       "      <td>201503</td>\n",
       "      <td>mia</td>\n",
       "      <td>2015</td>\n",
       "      <td>71</td>\n",
       "      <td>91</td>\n",
       "      <td>0.438272</td>\n",
       "      <td>613</td>\n",
       "      <td>678</td>\n",
       "      <td>0.449779</td>\n",
       "    </tr>\n",
       "    <tr>\n",
       "      <th>3</th>\n",
       "      <td>201504</td>\n",
       "      <td>tba</td>\n",
       "      <td>2015</td>\n",
       "      <td>80</td>\n",
       "      <td>82</td>\n",
       "      <td>0.493827</td>\n",
       "      <td>644</td>\n",
       "      <td>642</td>\n",
       "      <td>0.501555</td>\n",
       "    </tr>\n",
       "    <tr>\n",
       "      <th>4</th>\n",
       "      <td>201505</td>\n",
       "      <td>phi</td>\n",
       "      <td>2015</td>\n",
       "      <td>63</td>\n",
       "      <td>99</td>\n",
       "      <td>0.388889</td>\n",
       "      <td>626</td>\n",
       "      <td>809</td>\n",
       "      <td>0.374515</td>\n",
       "    </tr>\n",
       "  </tbody>\n",
       "</table>\n",
       "</div>"
      ],
      "text/plain": [
       "   team_id team  year  wins  losses     win_%  runs_scored  runs_allowed  \\\n",
       "0   201501  chn  2015    97      65  0.598765          689           608   \n",
       "1   201502  sea  2015    77      85  0.475309          656           725   \n",
       "2   201503  mia  2015    71      91  0.438272          613           678   \n",
       "3   201504  tba  2015    80      82  0.493827          644           642   \n",
       "4   201505  phi  2015    63      99  0.388889          626           809   \n",
       "\n",
       "   pythag_win_estimate  \n",
       "0             0.562209  \n",
       "1             0.450161  \n",
       "2             0.449779  \n",
       "3             0.501555  \n",
       "4             0.374515  "
      ]
     },
     "execution_count": 8,
     "metadata": {},
     "output_type": "execute_result"
    }
   ],
   "source": [
    "pythag_table.head()"
   ]
  },
  {
   "cell_type": "code",
   "execution_count": 9,
   "metadata": {
    "scrolled": true
   },
   "outputs": [
    {
     "data": {
      "text/html": [
       "<div>\n",
       "<style scoped>\n",
       "    .dataframe tbody tr th:only-of-type {\n",
       "        vertical-align: middle;\n",
       "    }\n",
       "\n",
       "    .dataframe tbody tr th {\n",
       "        vertical-align: top;\n",
       "    }\n",
       "\n",
       "    .dataframe thead th {\n",
       "        text-align: right;\n",
       "    }\n",
       "</style>\n",
       "<table border=\"1\" class=\"dataframe\">\n",
       "  <thead>\n",
       "    <tr style=\"text-align: right;\">\n",
       "      <th></th>\n",
       "      <th>win_%</th>\n",
       "      <th>pythag_win_estimate</th>\n",
       "    </tr>\n",
       "  </thead>\n",
       "  <tbody>\n",
       "    <tr>\n",
       "      <th>win_%</th>\n",
       "      <td>1.000000</td>\n",
       "      <td>0.942138</td>\n",
       "    </tr>\n",
       "    <tr>\n",
       "      <th>pythag_win_estimate</th>\n",
       "      <td>0.942138</td>\n",
       "      <td>1.000000</td>\n",
       "    </tr>\n",
       "  </tbody>\n",
       "</table>\n",
       "</div>"
      ],
      "text/plain": [
       "                        win_%  pythag_win_estimate\n",
       "win_%                1.000000             0.942138\n",
       "pythag_win_estimate  0.942138             1.000000"
      ]
     },
     "execution_count": 9,
     "metadata": {},
     "output_type": "execute_result"
    }
   ],
   "source": [
    "pythag_table[['win_%', 'pythag_win_estimate']].corr()"
   ]
  },
  {
   "cell_type": "code",
   "execution_count": 10,
   "metadata": {},
   "outputs": [],
   "source": [
    "model_data = pythag_table[['runs_scored', 'runs_allowed', 'win_%']]"
   ]
  },
  {
   "cell_type": "code",
   "execution_count": 11,
   "metadata": {},
   "outputs": [],
   "source": [
    "X = model_data[['runs_scored', 'runs_allowed']].to_numpy()\n",
    "y = model_data['win_%'].to_numpy()"
   ]
  },
  {
   "cell_type": "code",
   "execution_count": 12,
   "metadata": {},
   "outputs": [
    {
     "data": {
      "text/plain": [
       "array([689, 608])"
      ]
     },
     "execution_count": 12,
     "metadata": {},
     "output_type": "execute_result"
    }
   ],
   "source": [
    "X[0]"
   ]
  },
  {
   "cell_type": "code",
   "execution_count": 13,
   "metadata": {},
   "outputs": [],
   "source": [
    "from sklearn.model_selection import train_test_split\n",
    "\n",
    "X_train, X_test, y_train, y_test = train_test_split(X, y, test_size=.2)"
   ]
  },
  {
   "cell_type": "code",
   "execution_count": 14,
   "metadata": {},
   "outputs": [],
   "source": [
    "runs_scored = [i[0] for i in X_train]\n",
    "runs_allowed = [i[1] for i in X_train]"
   ]
  },
  {
   "cell_type": "code",
   "execution_count": 15,
   "metadata": {},
   "outputs": [],
   "source": [
    "def PythagPredict(runs_scored, runs_allowed, alpha):\n",
    "    ''' This function runs a single instance of the simulation with a given alpha value for\n",
    "        Pythagorean Theorem of Baseball: runs_scored^(alpha) / (runs_scored^(alpha) + runs_allowed^(alpha)).\n",
    "        '''\n",
    "    rsp = np.power(runs_scored, alpha)\n",
    "    rap = np.power(runs_allowed, alpha)\n",
    "    rsp_plus_rap = np.add(rsp, rap)\n",
    "\n",
    "    np.divide(rsp, rsp_plus_rap)\n",
    "    \n",
    "    return np.divide(rsp, rsp_plus_rap)\n",
    "\n",
    "def mean_absolute_error(predictions, observed):\n",
    "    '''calculates the mean absolute error of predictions and observed values'''\n",
    "    error = np.absolute(predictions - observed) / len(predictions)\n",
    "    \n",
    "    return np.sum(error)\n",
    "\n",
    "\n",
    "def PythagOptimization(runs_scored, runs_allowed, win_percentage, alphas=np.linspace(0,4,401)):\n",
    "    ''' This function runs a model over all alphas to determine the best fitting alpha value for \n",
    "        Pythagorean Theorem of Baseball. The loss function that we are minimizing in this function is\n",
    "        Mean Absolute Error(MAE).'''\n",
    "    \n",
    "    error=float('inf')\n",
    "    for alpha in alphas:\n",
    "        local_prediction = PythagPredict(runs_scored, runs_allowed, alpha)\n",
    "        local_error = mean_absolute_error(local_prediction, win_percentage)\n",
    "        if local_error < error:\n",
    "            error = local_error\n",
    "            optimal_alpha = alpha\n",
    "            optimal_prediction = local_prediction\n",
    "        \n",
    "    return optimal_alpha, optimal_prediction, error\n",
    "\n"
   ]
  },
  {
   "cell_type": "code",
   "execution_count": 16,
   "metadata": {},
   "outputs": [],
   "source": [
    "alpha, predictions, error = PythagOptimization(runs_scored, runs_allowed, y_train)"
   ]
  },
  {
   "cell_type": "code",
   "execution_count": 17,
   "metadata": {
    "scrolled": true
   },
   "outputs": [
    {
     "data": {
      "text/plain": [
       "1.82"
      ]
     },
     "execution_count": 17,
     "metadata": {},
     "output_type": "execute_result"
    }
   ],
   "source": [
    "alpha"
   ]
  },
  {
   "cell_type": "code",
   "execution_count": 18,
   "metadata": {
    "scrolled": true
   },
   "outputs": [
    {
     "data": {
      "text/plain": [
       "array([0.59394194, 0.59386678, 0.50444514, 0.5208631 , 0.61219885,\n",
       "       0.57291147, 0.36793883, 0.49349096, 0.43318329, 0.4277204 ,\n",
       "       0.41768291, 0.36643787, 0.43464296, 0.51732849, 0.3051487 ,\n",
       "       0.41252631, 0.575535  , 0.53822467, 0.57587273, 0.53331629,\n",
       "       0.49042187, 0.4783428 , 0.49934296, 0.42190361, 0.62687213,\n",
       "       0.53851089, 0.47506495, 0.58905081, 0.43651136, 0.5129425 ,\n",
       "       0.62614632, 0.45908469, 0.51532416, 0.47498958, 0.49696871,\n",
       "       0.42655355, 0.51165732, 0.5006413 , 0.47307956, 0.44386515,\n",
       "       0.42554498, 0.4274677 , 0.44756271, 0.35948079, 0.54325772,\n",
       "       0.48892503, 0.56302057, 0.43705364, 0.54101627, 0.48624174,\n",
       "       0.54082847, 0.49369829, 0.48116967, 0.37769232, 0.43078074,\n",
       "       0.44587657, 0.6629997 , 0.5511122 , 0.53810055, 0.54615623,\n",
       "       0.60134817, 0.48225806, 0.55733276, 0.39447224, 0.5005975 ,\n",
       "       0.54031823, 0.38098121, 0.53804164, 0.56462373, 0.34160333,\n",
       "       0.43620652, 0.54904094, 0.65742015, 0.6104693 , 0.44581033,\n",
       "       0.43230961, 0.37424985, 0.55666078, 0.60444202, 0.44800203,\n",
       "       0.43080627, 0.41182641, 0.44798103, 0.51468477, 0.44409725,\n",
       "       0.44329576, 0.49199461, 0.385389  , 0.42334303, 0.50538447,\n",
       "       0.56096941, 0.41799157, 0.67454959, 0.57468626, 0.61715806,\n",
       "       0.47961021, 0.55927775, 0.4264924 , 0.47762814, 0.54667441,\n",
       "       0.58395046, 0.65900589, 0.46700149, 0.48484756, 0.66330351,\n",
       "       0.57516461, 0.57074991, 0.6077688 , 0.56164998, 0.40225829,\n",
       "       0.49739257, 0.62376539, 0.45427216, 0.5347222 , 0.44590172,\n",
       "       0.56314102, 0.57459828, 0.59957383, 0.60540025, 0.55517606])"
      ]
     },
     "execution_count": 18,
     "metadata": {},
     "output_type": "execute_result"
    }
   ],
   "source": [
    "predictions"
   ]
  },
  {
   "cell_type": "code",
   "execution_count": 19,
   "metadata": {},
   "outputs": [
    {
     "data": {
      "text/plain": [
       "0.019981203301824627"
      ]
     },
     "execution_count": 19,
     "metadata": {},
     "output_type": "execute_result"
    }
   ],
   "source": [
    "error"
   ]
  },
  {
   "cell_type": "code",
   "execution_count": 20,
   "metadata": {},
   "outputs": [],
   "source": [
    "runs_scored_test = [i[0] for i in X_test]\n",
    "runs_allowed_test = [i[1] for i in X_test]"
   ]
  },
  {
   "cell_type": "code",
   "execution_count": 21,
   "metadata": {},
   "outputs": [],
   "source": [
    "test = PythagPredict(runs_scored_test, runs_allowed_test, alpha)\n",
    "original = PythagPredict(runs_scored_test, runs_allowed_test, 2)"
   ]
  },
  {
   "cell_type": "code",
   "execution_count": 22,
   "metadata": {},
   "outputs": [],
   "source": [
    "mae_test = mean_absolute_error(test, y_test)\n",
    "mae_original = mean_absolute_error(original, y_test)"
   ]
  },
  {
   "cell_type": "code",
   "execution_count": 23,
   "metadata": {},
   "outputs": [
    {
     "name": "stdout",
     "output_type": "stream",
     "text": [
      "Error (alpha = 1.82): 0.021662758781573904\n",
      "Error (alpha = 2): 0.022567273531022215\n"
     ]
    }
   ],
   "source": [
    "print(f'Error (alpha = {alpha}): {mae_test}')\n",
    "print(f'Error (alpha = 2): {mae_original}')"
   ]
  },
  {
   "cell_type": "markdown",
   "metadata": {},
   "source": [
    "#### To reach a complete error, the model needs to be run numerous times as to determine the accuracy of the model"
   ]
  },
  {
   "cell_type": "code",
   "execution_count": 24,
   "metadata": {},
   "outputs": [],
   "source": [
    "trials = 100\n",
    "sim = np.empty(trials)\n",
    "for trial in range(trials):\n",
    "    X_train, X_test, y_train, y_test = train_test_split(X, y, test_size=.2)\n",
    "    \n",
    "    runs_scored = [i[0] for i in X_train]\n",
    "    runs_allowed = [i[1] for i in X_train]\n",
    "    \n",
    "    sim[trial] = (PythagOptimization(runs_scored, runs_allowed, y_train)[0])"
   ]
  },
  {
   "cell_type": "code",
   "execution_count": 25,
   "metadata": {},
   "outputs": [],
   "source": [
    "mean = sim.mean()\n",
    "sd = sim.std()"
   ]
  },
  {
   "cell_type": "code",
   "execution_count": 26,
   "metadata": {},
   "outputs": [
    {
     "data": {
      "text/plain": [
       "1.8177"
      ]
     },
     "execution_count": 26,
     "metadata": {},
     "output_type": "execute_result"
    }
   ],
   "source": [
    "mean"
   ]
  },
  {
   "cell_type": "code",
   "execution_count": 27,
   "metadata": {},
   "outputs": [
    {
     "data": {
      "text/plain": [
       "0.031838812791936844"
      ]
     },
     "execution_count": 27,
     "metadata": {},
     "output_type": "execute_result"
    }
   ],
   "source": [
    "sd"
   ]
  },
  {
   "cell_type": "code",
   "execution_count": 28,
   "metadata": {},
   "outputs": [],
   "source": [
    "z_score99 = 2.58"
   ]
  },
  {
   "cell_type": "code",
   "execution_count": 29,
   "metadata": {},
   "outputs": [],
   "source": [
    "margin = z_score99 * sd/(trials**0.5)"
   ]
  },
  {
   "cell_type": "code",
   "execution_count": 30,
   "metadata": {},
   "outputs": [],
   "source": [
    "confidence_interval = (mean - margin, mean + margin)"
   ]
  },
  {
   "cell_type": "code",
   "execution_count": 31,
   "metadata": {},
   "outputs": [
    {
     "data": {
      "text/plain": [
       "(1.8094855862996804, 1.8259144137003198)"
      ]
     },
     "execution_count": 31,
     "metadata": {},
     "output_type": "execute_result"
    }
   ],
   "source": [
    "confidence_interval"
   ]
  },
  {
   "cell_type": "code",
   "execution_count": 32,
   "metadata": {},
   "outputs": [
    {
     "name": "stdout",
     "output_type": "stream",
     "text": [
      "True alpha: 1.8177 ± 0.008214413700319705\n"
     ]
    }
   ],
   "source": [
    "print(f'True alpha: {mean} ' + u'\\u00B1' + f' {margin}' )"
   ]
  },
  {
   "cell_type": "code",
   "execution_count": 33,
   "metadata": {},
   "outputs": [],
   "source": [
    "alpha = mean"
   ]
  },
  {
   "cell_type": "code",
   "execution_count": 34,
   "metadata": {},
   "outputs": [],
   "source": [
    "pythag_table['model_pythag_win_%'] = (pythag_table['runs_scored']**alpha) / ((pythag_table['runs_scored']**alpha) + (pythag_table['runs_allowed']**alpha))"
   ]
  },
  {
   "cell_type": "code",
   "execution_count": 35,
   "metadata": {},
   "outputs": [
    {
     "data": {
      "text/html": [
       "<div>\n",
       "<style scoped>\n",
       "    .dataframe tbody tr th:only-of-type {\n",
       "        vertical-align: middle;\n",
       "    }\n",
       "\n",
       "    .dataframe tbody tr th {\n",
       "        vertical-align: top;\n",
       "    }\n",
       "\n",
       "    .dataframe thead th {\n",
       "        text-align: right;\n",
       "    }\n",
       "</style>\n",
       "<table border=\"1\" class=\"dataframe\">\n",
       "  <thead>\n",
       "    <tr style=\"text-align: right;\">\n",
       "      <th></th>\n",
       "      <th>team_id</th>\n",
       "      <th>team</th>\n",
       "      <th>year</th>\n",
       "      <th>wins</th>\n",
       "      <th>losses</th>\n",
       "      <th>win_%</th>\n",
       "      <th>runs_scored</th>\n",
       "      <th>runs_allowed</th>\n",
       "      <th>pythag_win_estimate</th>\n",
       "      <th>model_pythag_win_%</th>\n",
       "    </tr>\n",
       "  </thead>\n",
       "  <tbody>\n",
       "    <tr>\n",
       "      <th>0</th>\n",
       "      <td>201501</td>\n",
       "      <td>chn</td>\n",
       "      <td>2015</td>\n",
       "      <td>97</td>\n",
       "      <td>65</td>\n",
       "      <td>0.598765</td>\n",
       "      <td>689</td>\n",
       "      <td>608</td>\n",
       "      <td>0.562209</td>\n",
       "      <td>0.556590</td>\n",
       "    </tr>\n",
       "    <tr>\n",
       "      <th>1</th>\n",
       "      <td>201502</td>\n",
       "      <td>sea</td>\n",
       "      <td>2015</td>\n",
       "      <td>77</td>\n",
       "      <td>85</td>\n",
       "      <td>0.475309</td>\n",
       "      <td>656</td>\n",
       "      <td>725</td>\n",
       "      <td>0.450161</td>\n",
       "      <td>0.454677</td>\n",
       "    </tr>\n",
       "    <tr>\n",
       "      <th>2</th>\n",
       "      <td>201503</td>\n",
       "      <td>mia</td>\n",
       "      <td>2015</td>\n",
       "      <td>71</td>\n",
       "      <td>91</td>\n",
       "      <td>0.438272</td>\n",
       "      <td>613</td>\n",
       "      <td>678</td>\n",
       "      <td>0.449779</td>\n",
       "      <td>0.454330</td>\n",
       "    </tr>\n",
       "    <tr>\n",
       "      <th>3</th>\n",
       "      <td>201504</td>\n",
       "      <td>tba</td>\n",
       "      <td>2015</td>\n",
       "      <td>80</td>\n",
       "      <td>82</td>\n",
       "      <td>0.493827</td>\n",
       "      <td>644</td>\n",
       "      <td>642</td>\n",
       "      <td>0.501555</td>\n",
       "      <td>0.501413</td>\n",
       "    </tr>\n",
       "    <tr>\n",
       "      <th>4</th>\n",
       "      <td>201505</td>\n",
       "      <td>phi</td>\n",
       "      <td>2015</td>\n",
       "      <td>63</td>\n",
       "      <td>99</td>\n",
       "      <td>0.388889</td>\n",
       "      <td>626</td>\n",
       "      <td>809</td>\n",
       "      <td>0.374515</td>\n",
       "      <td>0.385529</td>\n",
       "    </tr>\n",
       "  </tbody>\n",
       "</table>\n",
       "</div>"
      ],
      "text/plain": [
       "   team_id team  year  wins  losses     win_%  runs_scored  runs_allowed  \\\n",
       "0   201501  chn  2015    97      65  0.598765          689           608   \n",
       "1   201502  sea  2015    77      85  0.475309          656           725   \n",
       "2   201503  mia  2015    71      91  0.438272          613           678   \n",
       "3   201504  tba  2015    80      82  0.493827          644           642   \n",
       "4   201505  phi  2015    63      99  0.388889          626           809   \n",
       "\n",
       "   pythag_win_estimate  model_pythag_win_%  \n",
       "0             0.562209            0.556590  \n",
       "1             0.450161            0.454677  \n",
       "2             0.449779            0.454330  \n",
       "3             0.501555            0.501413  \n",
       "4             0.374515            0.385529  "
      ]
     },
     "execution_count": 35,
     "metadata": {},
     "output_type": "execute_result"
    }
   ],
   "source": [
    "pythag_table.head()"
   ]
  },
  {
   "cell_type": "code",
   "execution_count": 36,
   "metadata": {},
   "outputs": [],
   "source": [
    "pythag_corr = pythag_table[['win_%', 'pythag_win_estimate', 'model_pythag_win_%']].corr()"
   ]
  },
  {
   "cell_type": "code",
   "execution_count": 37,
   "metadata": {},
   "outputs": [
    {
     "data": {
      "text/plain": [
       "win_%                  1.000000\n",
       "pythag_win_estimate    0.942138\n",
       "model_pythag_win_%     0.942091\n",
       "Name: win_%, dtype: float64"
      ]
     },
     "execution_count": 37,
     "metadata": {},
     "output_type": "execute_result"
    }
   ],
   "source": [
    "pythag_corr['win_%']"
   ]
  },
  {
   "cell_type": "code",
   "execution_count": 38,
   "metadata": {},
   "outputs": [],
   "source": [
    "pythag_table.sort_values('win_%', inplace=True)"
   ]
  },
  {
   "cell_type": "code",
   "execution_count": 39,
   "metadata": {
    "scrolled": true
   },
   "outputs": [
    {
     "data": {
      "text/html": [
       "<div>\n",
       "<style scoped>\n",
       "    .dataframe tbody tr th:only-of-type {\n",
       "        vertical-align: middle;\n",
       "    }\n",
       "\n",
       "    .dataframe tbody tr th {\n",
       "        vertical-align: top;\n",
       "    }\n",
       "\n",
       "    .dataframe thead th {\n",
       "        text-align: right;\n",
       "    }\n",
       "</style>\n",
       "<table border=\"1\" class=\"dataframe\">\n",
       "  <thead>\n",
       "    <tr style=\"text-align: right;\">\n",
       "      <th></th>\n",
       "      <th>team_id</th>\n",
       "      <th>team</th>\n",
       "      <th>year</th>\n",
       "      <th>wins</th>\n",
       "      <th>losses</th>\n",
       "      <th>win_%</th>\n",
       "      <th>runs_scored</th>\n",
       "      <th>runs_allowed</th>\n",
       "      <th>pythag_win_estimate</th>\n",
       "      <th>model_pythag_win_%</th>\n",
       "    </tr>\n",
       "  </thead>\n",
       "  <tbody>\n",
       "    <tr>\n",
       "      <th>112</th>\n",
       "      <td>201823</td>\n",
       "      <td>bal</td>\n",
       "      <td>2018</td>\n",
       "      <td>47</td>\n",
       "      <td>115</td>\n",
       "      <td>0.290123</td>\n",
       "      <td>622</td>\n",
       "      <td>892</td>\n",
       "      <td>0.327161</td>\n",
       "      <td>0.341790</td>\n",
       "    </tr>\n",
       "    <tr>\n",
       "      <th>128</th>\n",
       "      <td>201909</td>\n",
       "      <td>det</td>\n",
       "      <td>2019</td>\n",
       "      <td>47</td>\n",
       "      <td>113</td>\n",
       "      <td>0.293750</td>\n",
       "      <td>579</td>\n",
       "      <td>910</td>\n",
       "      <td>0.288171</td>\n",
       "      <td>0.305369</td>\n",
       "    </tr>\n",
       "    <tr>\n",
       "      <th>142</th>\n",
       "      <td>201923</td>\n",
       "      <td>bal</td>\n",
       "      <td>2019</td>\n",
       "      <td>54</td>\n",
       "      <td>107</td>\n",
       "      <td>0.335404</td>\n",
       "      <td>725</td>\n",
       "      <td>976</td>\n",
       "      <td>0.355584</td>\n",
       "      <td>0.368098</td>\n",
       "    </tr>\n",
       "    <tr>\n",
       "      <th>122</th>\n",
       "      <td>201903</td>\n",
       "      <td>mia</td>\n",
       "      <td>2019</td>\n",
       "      <td>56</td>\n",
       "      <td>104</td>\n",
       "      <td>0.350000</td>\n",
       "      <td>605</td>\n",
       "      <td>796</td>\n",
       "      <td>0.366156</td>\n",
       "      <td>0.377841</td>\n",
       "    </tr>\n",
       "    <tr>\n",
       "      <th>95</th>\n",
       "      <td>201806</td>\n",
       "      <td>kca</td>\n",
       "      <td>2018</td>\n",
       "      <td>58</td>\n",
       "      <td>104</td>\n",
       "      <td>0.358025</td>\n",
       "      <td>638</td>\n",
       "      <td>833</td>\n",
       "      <td>0.369726</td>\n",
       "      <td>0.381126</td>\n",
       "    </tr>\n",
       "  </tbody>\n",
       "</table>\n",
       "</div>"
      ],
      "text/plain": [
       "     team_id team  year  wins  losses     win_%  runs_scored  runs_allowed  \\\n",
       "112   201823  bal  2018    47     115  0.290123          622           892   \n",
       "128   201909  det  2019    47     113  0.293750          579           910   \n",
       "142   201923  bal  2019    54     107  0.335404          725           976   \n",
       "122   201903  mia  2019    56     104  0.350000          605           796   \n",
       "95    201806  kca  2018    58     104  0.358025          638           833   \n",
       "\n",
       "     pythag_win_estimate  model_pythag_win_%  \n",
       "112             0.327161            0.341790  \n",
       "128             0.288171            0.305369  \n",
       "142             0.355584            0.368098  \n",
       "122             0.366156            0.377841  \n",
       "95              0.369726            0.381126  "
      ]
     },
     "execution_count": 39,
     "metadata": {},
     "output_type": "execute_result"
    }
   ],
   "source": [
    "pythag_table.head()"
   ]
  },
  {
   "cell_type": "code",
   "execution_count": 112,
   "metadata": {},
   "outputs": [],
   "source": [
    "%matplotlib qt"
   ]
  },
  {
   "cell_type": "code",
   "execution_count": 40,
   "metadata": {
    "scrolled": true
   },
   "outputs": [
    {
     "data": {
      "image/png": "[encoded data removed]",
      "text/plain": [
       "<Figure size 432x288 with 1 Axes>"
      ]
     },
     "metadata": {
      "needs_background": "light"
     },
     "output_type": "display_data"
    }
   ],
   "source": [
    "index = np.arange(1, len(pythag_table)+1)\n",
    "\n",
    "plt.plot(index, pythag_table['pythag_win_estimate'], label='Pythag Estimate \\u03B1 = 2', alpha=.5)\n",
    "plt.plot(index, pythag_table['model_pythag_win_%'], label=f'Pythag Estimate \\u03B1 = {round(alpha, 2)}', alpha=.5)\n",
    "plt.plot(index, pythag_table['win_%'], color='#000000', label='True Win Percentage')\n",
    "\n",
    "plt.xticks([])\n",
    "plt.ylabel('Win Percentage')\n",
    "plt.title('Plot of Pythagorean Win Rates')\n",
    "plt.grid(True)\n",
    "plt.legend()\n",
    "plt.tight_layout()\n",
    "plt.show()"
   ]
  },
  {
   "cell_type": "code",
   "execution_count": 41,
   "metadata": {},
   "outputs": [
    {
     "data": {
      "image/png": "[encoded data removed]",
      "text/plain": [
       "<Figure size 432x288 with 1 Axes>"
      ]
     },
     "metadata": {
      "needs_background": "light"
     },
     "output_type": "display_data"
    }
   ],
   "source": [
    "line = [.3,.7]\n",
    "plt.scatter(pythag_table['win_%'], pythag_table['model_pythag_win_%'], label='Original Estimate \\u03B1 = 2', color='blue', s=10, alpha=.5)\n",
    "plt.scatter(pythag_table['win_%'], pythag_table['pythag_win_estimate'], label=f'Model Estimate \\u03B1 = {round(alpha, 2)}', color='red', s=10, alpha=.5)\n",
    "plt.plot(line, line, color='#000000', label='Accuracy Line')\n",
    "\n",
    "plt.legend()\n",
    "plt.title('Pythag Estimate to Win Rate Comparison')\n",
    "plt.ylabel(f'Pythag Estimate')\n",
    "plt.xlabel('True Win Rate')\n",
    "plt.tight_layout()\n",
    "plt.show()"
   ]
  },
  {
   "cell_type": "code",
   "execution_count": 42,
   "metadata": {},
   "outputs": [],
   "source": [
    "pythag_table.to_csv('../stats/pythag_table.csv', index=False)"
   ]
  },
  {
   "cell_type": "code",
   "execution_count": null,
   "metadata": {},
   "outputs": [],
   "source": []
  }
 ],
 "metadata": {
  "kernelspec": {
   "display_name": "Python 3",
   "language": "python",
   "name": "python3"
  },
  "language_info": {
   "codemirror_mode": {
    "name": "ipython",
    "version": 3
   },
   "file_extension": ".py",
   "mimetype": "text/x-python",
   "name": "python",
   "nbconvert_exporter": "python",
   "pygments_lexer": "ipython3",
   "version": "3.8.5"
  }
 },
 "nbformat": 4,
 "nbformat_minor": 4
}
