{
 "cells": [
  {
   "cell_type": "markdown",
   "metadata": {},
   "source": [
    "### Part Two\n",
    "<br>\n",
    "The Runs"
   ]
  },
  {
   "cell_type": "code",
   "execution_count": 1,
   "metadata": {},
   "outputs": [],
   "source": [
    "import numpy as np\n",
    "import pandas as pd\n",
    "import matplotlib.pyplot as plt"
   ]
  },
  {
   "cell_type": "code",
   "execution_count": 2,
   "metadata": {},
   "outputs": [],
   "source": [
    "records = pd.read_csv('../stats/records.csv')\n",
    "off_stats = pd.read_csv('../stats/offensive_stats.csv')\n",
    "def_stats = pd.read_csv('../stats/defensive_stats.csv')\n",
    "pythag_wins = pd.read_csv('../stats/pythag_table.csv')"
   ]
  },
  {
   "cell_type": "code",
   "execution_count": 3,
   "metadata": {
    "scrolled": true
   },
   "outputs": [
    {
     "name": "stdout",
     "output_type": "stream",
     "text": [
      "<class 'pandas.core.frame.DataFrame'>\n",
      "RangeIndex: 150 entries, 0 to 149\n",
      "Data columns (total 32 columns):\n",
      " #   Column             Non-Null Count  Dtype  \n",
      "---  ------             --------------  -----  \n",
      " 0   team_id            150 non-null    int64  \n",
      " 1   team               150 non-null    object \n",
      " 2   year               150 non-null    int64  \n",
      " 3   wins               150 non-null    int64  \n",
      " 4   losses             150 non-null    int64  \n",
      " 5   win_%              150 non-null    float64\n",
      " 6   singles            150 non-null    int64  \n",
      " 7   doubles            150 non-null    int64  \n",
      " 8   triples            150 non-null    int64  \n",
      " 9   home_runs          150 non-null    int64  \n",
      " 10  walks              150 non-null    int64  \n",
      " 11  sac_fly            150 non-null    int64  \n",
      " 12  sac_bunt           150 non-null    int64  \n",
      " 13  strikeouts         150 non-null    int64  \n",
      " 14  outs               150 non-null    int64  \n",
      " 15  r_o_error          150 non-null    int64  \n",
      " 16  runs               150 non-null    int64  \n",
      " 17  plate_appearances  150 non-null    int64  \n",
      " 18  sing/pa            150 non-null    float64\n",
      " 19  doub/pa            150 non-null    float64\n",
      " 20  trip/pa            150 non-null    float64\n",
      " 21  hr/pa              150 non-null    float64\n",
      " 22  hits               150 non-null    int64  \n",
      " 23  ab                 150 non-null    int64  \n",
      " 24  avg                150 non-null    float64\n",
      " 25  obs                150 non-null    float64\n",
      " 26  slugging           150 non-null    float64\n",
      " 27  ops                150 non-null    float64\n",
      " 28  so_%               150 non-null    float64\n",
      " 29  hr_%               150 non-null    float64\n",
      " 30  walk_%             150 non-null    float64\n",
      " 31  hits_to_run        150 non-null    float64\n",
      "dtypes: float64(13), int64(18), object(1)\n",
      "memory usage: 37.6+ KB\n"
     ]
    }
   ],
   "source": [
    "off_stats.info()"
   ]
  },
  {
   "cell_type": "code",
   "execution_count": 4,
   "metadata": {
    "scrolled": false
   },
   "outputs": [],
   "source": [
    "off_relevant = off_stats.drop(['team_id', 'year', 'wins', 'losses', 'win_%', 'team'], axis=1)"
   ]
  },
  {
   "cell_type": "code",
   "execution_count": 5,
   "metadata": {},
   "outputs": [],
   "source": [
    "def_relevant = def_stats.drop(['team_id', 'year', 'wins', 'losses', 'win_%', 'team'], axis=1)"
   ]
  },
  {
   "cell_type": "code",
   "execution_count": 6,
   "metadata": {
    "scrolled": true
   },
   "outputs": [
    {
     "data": {
      "text/html": [
       "<div>\n",
       "<style scoped>\n",
       "    .dataframe tbody tr th:only-of-type {\n",
       "        vertical-align: middle;\n",
       "    }\n",
       "\n",
       "    .dataframe tbody tr th {\n",
       "        vertical-align: top;\n",
       "    }\n",
       "\n",
       "    .dataframe thead th {\n",
       "        text-align: right;\n",
       "    }\n",
       "</style>\n",
       "<table border=\"1\" class=\"dataframe\">\n",
       "  <thead>\n",
       "    <tr style=\"text-align: right;\">\n",
       "      <th></th>\n",
       "      <th>singles</th>\n",
       "      <th>doubles</th>\n",
       "      <th>triples</th>\n",
       "      <th>home_runs</th>\n",
       "      <th>walks</th>\n",
       "      <th>sac_fly</th>\n",
       "      <th>sac_bunt</th>\n",
       "      <th>strikeouts</th>\n",
       "      <th>outs</th>\n",
       "      <th>r_o_error</th>\n",
       "      <th>...</th>\n",
       "      <th>hits</th>\n",
       "      <th>ab</th>\n",
       "      <th>avg</th>\n",
       "      <th>obs</th>\n",
       "      <th>slugging</th>\n",
       "      <th>ops</th>\n",
       "      <th>so_%</th>\n",
       "      <th>hr_%</th>\n",
       "      <th>walk_%</th>\n",
       "      <th>hits_to_run</th>\n",
       "    </tr>\n",
       "  </thead>\n",
       "  <tbody>\n",
       "    <tr>\n",
       "      <th>0</th>\n",
       "      <td>819</td>\n",
       "      <td>286</td>\n",
       "      <td>37</td>\n",
       "      <td>134</td>\n",
       "      <td>455</td>\n",
       "      <td>30</td>\n",
       "      <td>35</td>\n",
       "      <td>1431</td>\n",
       "      <td>2298</td>\n",
       "      <td>69</td>\n",
       "      <td>...</td>\n",
       "      <td>1276</td>\n",
       "      <td>5005</td>\n",
       "      <td>0.254945</td>\n",
       "      <td>0.315301</td>\n",
       "      <td>0.407193</td>\n",
       "      <td>0.722493</td>\n",
       "      <td>0.255810</td>\n",
       "      <td>0.023954</td>\n",
       "      <td>0.081337</td>\n",
       "      <td>1.851959</td>\n",
       "    </tr>\n",
       "    <tr>\n",
       "      <th>1</th>\n",
       "      <td>941</td>\n",
       "      <td>285</td>\n",
       "      <td>23</td>\n",
       "      <td>181</td>\n",
       "      <td>564</td>\n",
       "      <td>35</td>\n",
       "      <td>32</td>\n",
       "      <td>1285</td>\n",
       "      <td>2449</td>\n",
       "      <td>55</td>\n",
       "      <td>...</td>\n",
       "      <td>1430</td>\n",
       "      <td>5164</td>\n",
       "      <td>0.276917</td>\n",
       "      <td>0.346000</td>\n",
       "      <td>0.446166</td>\n",
       "      <td>0.792166</td>\n",
       "      <td>0.219658</td>\n",
       "      <td>0.030940</td>\n",
       "      <td>0.096410</td>\n",
       "      <td>2.179878</td>\n",
       "    </tr>\n",
       "    <tr>\n",
       "      <th>2</th>\n",
       "      <td>926</td>\n",
       "      <td>278</td>\n",
       "      <td>29</td>\n",
       "      <td>141</td>\n",
       "      <td>560</td>\n",
       "      <td>55</td>\n",
       "      <td>50</td>\n",
       "      <td>1152</td>\n",
       "      <td>2397</td>\n",
       "      <td>36</td>\n",
       "      <td>...</td>\n",
       "      <td>1374</td>\n",
       "      <td>4923</td>\n",
       "      <td>0.279098</td>\n",
       "      <td>0.349224</td>\n",
       "      <td>0.433272</td>\n",
       "      <td>0.782496</td>\n",
       "      <td>0.204836</td>\n",
       "      <td>0.025071</td>\n",
       "      <td>0.099573</td>\n",
       "      <td>2.241436</td>\n",
       "    </tr>\n",
       "    <tr>\n",
       "      <th>3</th>\n",
       "      <td>888</td>\n",
       "      <td>232</td>\n",
       "      <td>19</td>\n",
       "      <td>175</td>\n",
       "      <td>525</td>\n",
       "      <td>40</td>\n",
       "      <td>27</td>\n",
       "      <td>1357</td>\n",
       "      <td>2389</td>\n",
       "      <td>54</td>\n",
       "      <td>...</td>\n",
       "      <td>1314</td>\n",
       "      <td>5060</td>\n",
       "      <td>0.259684</td>\n",
       "      <td>0.326933</td>\n",
       "      <td>0.416798</td>\n",
       "      <td>0.743732</td>\n",
       "      <td>0.237820</td>\n",
       "      <td>0.030669</td>\n",
       "      <td>0.092008</td>\n",
       "      <td>2.040373</td>\n",
       "    </tr>\n",
       "    <tr>\n",
       "      <th>4</th>\n",
       "      <td>1068</td>\n",
       "      <td>300</td>\n",
       "      <td>33</td>\n",
       "      <td>191</td>\n",
       "      <td>552</td>\n",
       "      <td>41</td>\n",
       "      <td>46</td>\n",
       "      <td>1153</td>\n",
       "      <td>2429</td>\n",
       "      <td>71</td>\n",
       "      <td>...</td>\n",
       "      <td>1592</td>\n",
       "      <td>5174</td>\n",
       "      <td>0.307692</td>\n",
       "      <td>0.371770</td>\n",
       "      <td>0.489177</td>\n",
       "      <td>0.860947</td>\n",
       "      <td>0.195955</td>\n",
       "      <td>0.032461</td>\n",
       "      <td>0.093814</td>\n",
       "      <td>2.543131</td>\n",
       "    </tr>\n",
       "  </tbody>\n",
       "</table>\n",
       "<p>5 rows × 26 columns</p>\n",
       "</div>"
      ],
      "text/plain": [
       "   singles  doubles  triples  home_runs  walks  sac_fly  sac_bunt  strikeouts  \\\n",
       "0      819      286       37        134    455       30        35        1431   \n",
       "1      941      285       23        181    564       35        32        1285   \n",
       "2      926      278       29        141    560       55        50        1152   \n",
       "3      888      232       19        175    525       40        27        1357   \n",
       "4     1068      300       33        191    552       41        46        1153   \n",
       "\n",
       "   outs  r_o_error  ...  hits    ab       avg       obs  slugging       ops  \\\n",
       "0  2298         69  ...  1276  5005  0.254945  0.315301  0.407193  0.722493   \n",
       "1  2449         55  ...  1430  5164  0.276917  0.346000  0.446166  0.792166   \n",
       "2  2397         36  ...  1374  4923  0.279098  0.349224  0.433272  0.782496   \n",
       "3  2389         54  ...  1314  5060  0.259684  0.326933  0.416798  0.743732   \n",
       "4  2429         71  ...  1592  5174  0.307692  0.371770  0.489177  0.860947   \n",
       "\n",
       "       so_%      hr_%    walk_%  hits_to_run  \n",
       "0  0.255810  0.023954  0.081337     1.851959  \n",
       "1  0.219658  0.030940  0.096410     2.179878  \n",
       "2  0.204836  0.025071  0.099573     2.241436  \n",
       "3  0.237820  0.030669  0.092008     2.040373  \n",
       "4  0.195955  0.032461  0.093814     2.543131  \n",
       "\n",
       "[5 rows x 26 columns]"
      ]
     },
     "execution_count": 6,
     "metadata": {},
     "output_type": "execute_result"
    }
   ],
   "source": [
    "off_relevant.head()"
   ]
  },
  {
   "cell_type": "code",
   "execution_count": 7,
   "metadata": {},
   "outputs": [
    {
     "data": {
      "text/html": [
       "<div>\n",
       "<style scoped>\n",
       "    .dataframe tbody tr th:only-of-type {\n",
       "        vertical-align: middle;\n",
       "    }\n",
       "\n",
       "    .dataframe tbody tr th {\n",
       "        vertical-align: top;\n",
       "    }\n",
       "\n",
       "    .dataframe thead th {\n",
       "        text-align: right;\n",
       "    }\n",
       "</style>\n",
       "<table border=\"1\" class=\"dataframe\">\n",
       "  <thead>\n",
       "    <tr style=\"text-align: right;\">\n",
       "      <th></th>\n",
       "      <th>singles</th>\n",
       "      <th>doubles</th>\n",
       "      <th>triples</th>\n",
       "      <th>home_runs</th>\n",
       "      <th>walks</th>\n",
       "      <th>sac_fly</th>\n",
       "      <th>sac_bunt</th>\n",
       "      <th>strikeouts</th>\n",
       "      <th>outs</th>\n",
       "      <th>r_o_error</th>\n",
       "      <th>...</th>\n",
       "      <th>trip/pa</th>\n",
       "      <th>hr/pa</th>\n",
       "      <th>avg</th>\n",
       "      <th>obs</th>\n",
       "      <th>slugging</th>\n",
       "      <th>ops</th>\n",
       "      <th>so_%</th>\n",
       "      <th>hr_%</th>\n",
       "      <th>walk_%</th>\n",
       "      <th>hits_to_run</th>\n",
       "    </tr>\n",
       "  </thead>\n",
       "  <tbody>\n",
       "    <tr>\n",
       "      <th>0</th>\n",
       "      <td>819</td>\n",
       "      <td>286</td>\n",
       "      <td>37</td>\n",
       "      <td>134</td>\n",
       "      <td>455</td>\n",
       "      <td>30</td>\n",
       "      <td>35</td>\n",
       "      <td>1431</td>\n",
       "      <td>2298</td>\n",
       "      <td>69</td>\n",
       "      <td>...</td>\n",
       "      <td>0.006620</td>\n",
       "      <td>0.023976</td>\n",
       "      <td>0.254945</td>\n",
       "      <td>0.317033</td>\n",
       "      <td>0.407193</td>\n",
       "      <td>0.722493</td>\n",
       "      <td>0.256039</td>\n",
       "      <td>0.023976</td>\n",
       "      <td>0.081410</td>\n",
       "      <td>2.098684</td>\n",
       "    </tr>\n",
       "    <tr>\n",
       "      <th>1</th>\n",
       "      <td>941</td>\n",
       "      <td>285</td>\n",
       "      <td>23</td>\n",
       "      <td>181</td>\n",
       "      <td>564</td>\n",
       "      <td>35</td>\n",
       "      <td>32</td>\n",
       "      <td>1285</td>\n",
       "      <td>2449</td>\n",
       "      <td>55</td>\n",
       "      <td>...</td>\n",
       "      <td>0.003930</td>\n",
       "      <td>0.030924</td>\n",
       "      <td>0.276917</td>\n",
       "      <td>0.348115</td>\n",
       "      <td>0.446166</td>\n",
       "      <td>0.792166</td>\n",
       "      <td>0.219546</td>\n",
       "      <td>0.030924</td>\n",
       "      <td>0.096361</td>\n",
       "      <td>1.972414</td>\n",
       "    </tr>\n",
       "    <tr>\n",
       "      <th>2</th>\n",
       "      <td>926</td>\n",
       "      <td>278</td>\n",
       "      <td>29</td>\n",
       "      <td>141</td>\n",
       "      <td>560</td>\n",
       "      <td>55</td>\n",
       "      <td>50</td>\n",
       "      <td>1152</td>\n",
       "      <td>2397</td>\n",
       "      <td>36</td>\n",
       "      <td>...</td>\n",
       "      <td>0.005152</td>\n",
       "      <td>0.025049</td>\n",
       "      <td>0.279098</td>\n",
       "      <td>0.352727</td>\n",
       "      <td>0.433272</td>\n",
       "      <td>0.782496</td>\n",
       "      <td>0.204654</td>\n",
       "      <td>0.025049</td>\n",
       "      <td>0.099485</td>\n",
       "      <td>2.026549</td>\n",
       "    </tr>\n",
       "    <tr>\n",
       "      <th>3</th>\n",
       "      <td>888</td>\n",
       "      <td>232</td>\n",
       "      <td>19</td>\n",
       "      <td>175</td>\n",
       "      <td>525</td>\n",
       "      <td>40</td>\n",
       "      <td>27</td>\n",
       "      <td>1357</td>\n",
       "      <td>2389</td>\n",
       "      <td>54</td>\n",
       "      <td>...</td>\n",
       "      <td>0.003322</td>\n",
       "      <td>0.030600</td>\n",
       "      <td>0.259684</td>\n",
       "      <td>0.329275</td>\n",
       "      <td>0.416798</td>\n",
       "      <td>0.743732</td>\n",
       "      <td>0.237279</td>\n",
       "      <td>0.030600</td>\n",
       "      <td>0.091799</td>\n",
       "      <td>2.046729</td>\n",
       "    </tr>\n",
       "    <tr>\n",
       "      <th>4</th>\n",
       "      <td>1068</td>\n",
       "      <td>300</td>\n",
       "      <td>33</td>\n",
       "      <td>191</td>\n",
       "      <td>552</td>\n",
       "      <td>41</td>\n",
       "      <td>46</td>\n",
       "      <td>1153</td>\n",
       "      <td>2429</td>\n",
       "      <td>71</td>\n",
       "      <td>...</td>\n",
       "      <td>0.005613</td>\n",
       "      <td>0.032489</td>\n",
       "      <td>0.307692</td>\n",
       "      <td>0.374432</td>\n",
       "      <td>0.489177</td>\n",
       "      <td>0.860947</td>\n",
       "      <td>0.196122</td>\n",
       "      <td>0.032489</td>\n",
       "      <td>0.093894</td>\n",
       "      <td>1.967862</td>\n",
       "    </tr>\n",
       "  </tbody>\n",
       "</table>\n",
       "<p>5 rows × 26 columns</p>\n",
       "</div>"
      ],
      "text/plain": [
       "   singles  doubles  triples  home_runs  walks  sac_fly  sac_bunt  strikeouts  \\\n",
       "0      819      286       37        134    455       30        35        1431   \n",
       "1      941      285       23        181    564       35        32        1285   \n",
       "2      926      278       29        141    560       55        50        1152   \n",
       "3      888      232       19        175    525       40        27        1357   \n",
       "4     1068      300       33        191    552       41        46        1153   \n",
       "\n",
       "   outs  r_o_error  ...   trip/pa     hr/pa       avg       obs  slugging  \\\n",
       "0  2298         69  ...  0.006620  0.023976  0.254945  0.317033  0.407193   \n",
       "1  2449         55  ...  0.003930  0.030924  0.276917  0.348115  0.446166   \n",
       "2  2397         36  ...  0.005152  0.025049  0.279098  0.352727  0.433272   \n",
       "3  2389         54  ...  0.003322  0.030600  0.259684  0.329275  0.416798   \n",
       "4  2429         71  ...  0.005613  0.032489  0.307692  0.374432  0.489177   \n",
       "\n",
       "        ops      so_%      hr_%    walk_%  hits_to_run  \n",
       "0  0.722493  0.256039  0.023976  0.081410     2.098684  \n",
       "1  0.792166  0.219546  0.030924  0.096361     1.972414  \n",
       "2  0.782496  0.204654  0.025049  0.099485     2.026549  \n",
       "3  0.743732  0.237279  0.030600  0.091799     2.046729  \n",
       "4  0.860947  0.196122  0.032489  0.093894     1.967862  \n",
       "\n",
       "[5 rows x 26 columns]"
      ]
     },
     "execution_count": 7,
     "metadata": {},
     "output_type": "execute_result"
    }
   ],
   "source": [
    "def_relevant.head()"
   ]
  },
  {
   "cell_type": "code",
   "execution_count": 8,
   "metadata": {},
   "outputs": [],
   "source": [
    "off_corr = off_relevant.corr()"
   ]
  },
  {
   "cell_type": "code",
   "execution_count": 9,
   "metadata": {},
   "outputs": [],
   "source": [
    "def_corr = def_relevant.corr()"
   ]
  },
  {
   "cell_type": "code",
   "execution_count": 10,
   "metadata": {},
   "outputs": [
    {
     "data": {
      "text/plain": [
       "singles             -0.372124\n",
       "doubles             -0.138335\n",
       "triples             -0.223114\n",
       "home_runs            0.118605\n",
       "walks               -0.071158\n",
       "sac_fly             -0.306695\n",
       "sac_bunt            -0.336872\n",
       "strikeouts           0.427933\n",
       "outs                -0.309837\n",
       "r_o_error           -0.208268\n",
       "runs                 1.000000\n",
       "plate_appearances   -0.120450\n",
       "sing/pa             -0.389935\n",
       "doub/pa             -0.130666\n",
       "trip/pa             -0.221490\n",
       "hr/pa                0.141348\n",
       "hits                -0.294206\n",
       "ab                   0.005751\n",
       "avg                 -0.346817\n",
       "obs                 -0.299729\n",
       "slugging            -0.153735\n",
       "ops                 -0.213170\n",
       "so_%                 0.420951\n",
       "hr_%                 0.141348\n",
       "walk_%              -0.058467\n",
       "hits_to_run         -0.884945\n",
       "Name: runs, dtype: float64"
      ]
     },
     "execution_count": 10,
     "metadata": {},
     "output_type": "execute_result"
    }
   ],
   "source": [
    "off_corr['runs']"
   ]
  },
  {
   "cell_type": "code",
   "execution_count": 11,
   "metadata": {},
   "outputs": [
    {
     "data": {
      "text/plain": [
       "singles              0.442413\n",
       "doubles              0.662985\n",
       "triples              0.269122\n",
       "home_runs            0.752698\n",
       "walks                0.634555\n",
       "sac_fly              0.482091\n",
       "sac_bunt            -0.057726\n",
       "strikeouts          -0.454680\n",
       "outs                 0.261979\n",
       "r_o_error            0.121547\n",
       "runs                 1.000000\n",
       "plate_appearances    0.776845\n",
       "hits                 0.809633\n",
       "ab                   0.484807\n",
       "sing/pa              0.264124\n",
       "doub/pa              0.569022\n",
       "trip/pa              0.225706\n",
       "hr/pa                0.689948\n",
       "avg                  0.809361\n",
       "obs                  0.878837\n",
       "slugging             0.940220\n",
       "ops                  0.952182\n",
       "so_%                -0.567256\n",
       "hr_%                 0.689948\n",
       "walk_%               0.560946\n",
       "hits_to_run         -0.853162\n",
       "Name: runs, dtype: float64"
      ]
     },
     "execution_count": 11,
     "metadata": {},
     "output_type": "execute_result"
    }
   ],
   "source": [
    "def_corr['runs']"
   ]
  },
  {
   "cell_type": "code",
   "execution_count": 12,
   "metadata": {},
   "outputs": [],
   "source": [
    "off_corr_runs = off_corr['runs']"
   ]
  },
  {
   "cell_type": "code",
   "execution_count": 13,
   "metadata": {},
   "outputs": [],
   "source": [
    "def_corr_runs = def_corr['runs']"
   ]
  },
  {
   "cell_type": "code",
   "execution_count": 14,
   "metadata": {},
   "outputs": [
    {
     "data": {
      "text/plain": [
       "singles             -0.372124\n",
       "doubles             -0.138335\n",
       "triples             -0.223114\n",
       "home_runs            0.118605\n",
       "walks               -0.071158\n",
       "sac_fly             -0.306695\n",
       "sac_bunt            -0.336872\n",
       "strikeouts           0.427933\n",
       "outs                -0.309837\n",
       "r_o_error           -0.208268\n",
       "runs                 1.000000\n",
       "plate_appearances   -0.120450\n",
       "sing/pa             -0.389935\n",
       "doub/pa             -0.130666\n",
       "trip/pa             -0.221490\n",
       "hr/pa                0.141348\n",
       "hits                -0.294206\n",
       "ab                   0.005751\n",
       "avg                 -0.346817\n",
       "obs                 -0.299729\n",
       "slugging            -0.153735\n",
       "ops                 -0.213170\n",
       "so_%                 0.420951\n",
       "hr_%                 0.141348\n",
       "walk_%              -0.058467\n",
       "hits_to_run         -0.884945\n",
       "Name: runs, dtype: float64"
      ]
     },
     "execution_count": 14,
     "metadata": {},
     "output_type": "execute_result"
    }
   ],
   "source": [
    "off_corr_runs"
   ]
  },
  {
   "cell_type": "code",
   "execution_count": 15,
   "metadata": {},
   "outputs": [
    {
     "data": {
      "text/plain": [
       "singles              0.442413\n",
       "doubles              0.662985\n",
       "triples              0.269122\n",
       "home_runs            0.752698\n",
       "walks                0.634555\n",
       "sac_fly              0.482091\n",
       "sac_bunt            -0.057726\n",
       "strikeouts          -0.454680\n",
       "outs                 0.261979\n",
       "r_o_error            0.121547\n",
       "runs                 1.000000\n",
       "plate_appearances    0.776845\n",
       "hits                 0.809633\n",
       "ab                   0.484807\n",
       "sing/pa              0.264124\n",
       "doub/pa              0.569022\n",
       "trip/pa              0.225706\n",
       "hr/pa                0.689948\n",
       "avg                  0.809361\n",
       "obs                  0.878837\n",
       "slugging             0.940220\n",
       "ops                  0.952182\n",
       "so_%                -0.567256\n",
       "hr_%                 0.689948\n",
       "walk_%               0.560946\n",
       "hits_to_run         -0.853162\n",
       "Name: runs, dtype: float64"
      ]
     },
     "execution_count": 15,
     "metadata": {},
     "output_type": "execute_result"
    }
   ],
   "source": [
    "def_corr_runs"
   ]
  },
  {
   "cell_type": "code",
   "execution_count": 16,
   "metadata": {
    "scrolled": true
   },
   "outputs": [
    {
     "name": "stdout",
     "output_type": "stream",
     "text": [
      "Index(['singles', 'doubles', 'triples', 'home_runs', 'walks', 'sac_fly',\n",
      "       'sac_bunt', 'strikeouts', 'outs', 'r_o_error', 'runs',\n",
      "       'plate_appearances', 'sing/pa', 'doub/pa', 'trip/pa', 'hr/pa', 'hits',\n",
      "       'ab', 'avg', 'obs', 'slugging', 'ops', 'so_%', 'hr_%', 'walk_%',\n",
      "       'hits_to_run'],\n",
      "      dtype='object')\n",
      "26\n"
     ]
    }
   ],
   "source": [
    "print(off_relevant.columns)\n",
    "print(len(off_relevant.columns))"
   ]
  },
  {
   "cell_type": "code",
   "execution_count": 17,
   "metadata": {
    "scrolled": true
   },
   "outputs": [
    {
     "name": "stdout",
     "output_type": "stream",
     "text": [
      "singles\n"
     ]
    }
   ],
   "source": [
    "print(off_relevant.columns[0])"
   ]
  },
  {
   "cell_type": "code",
   "execution_count": 30,
   "metadata": {},
   "outputs": [],
   "source": [
    "%matplotlib qt"
   ]
  },
  {
   "cell_type": "code",
   "execution_count": 40,
   "metadata": {},
   "outputs": [
    {
     "name": "stderr",
     "output_type": "stream",
     "text": [
      "<ipython-input-40-e49c787448fb>:22: UserWarning: Tight layout not applied. tight_layout cannot make axes height small enough to accommodate all axes decorations\n",
      "  plt.tight_layout()\n"
     ]
    }
   ],
   "source": [
    "fig, ax = plt.subplots(nrows=9, ncols=3)\n",
    "ax_row=0\n",
    "ax_col=0\n",
    "runs = off_relevant['runs']\n",
    "\n",
    "for col in off_relevant.columns:\n",
    "    if ax_col >= 3:\n",
    "        ax_row += 1\n",
    "        ax_col = 0\n",
    "        \n",
    "        \n",
    "    ax[ax_row][ax_col].scatter(off_relevant[col], runs, s=10)\n",
    "    \n",
    "    ax[ax_row][ax_col].set_title(f'{col.capitalize()} to Runs')\n",
    "    ax[ax_row][ax_col].set_ylabel('Runs')\n",
    "    ax[ax_row][ax_col].set_xlabel(col.capitalize())\n",
    "    \n",
    "    ax_col += 1\n",
    "            \n",
    "    \n",
    "    \n",
    "plt.tight_layout()\n",
    "plt.show()"
   ]
  },
  {
   "cell_type": "code",
   "execution_count": 57,
   "metadata": {},
   "outputs": [],
   "source": [
    "off_first9 = off_relevant[['singles', 'doubles', 'triples', 'home_runs', 'walks',\n",
    "                           'hits', 'strikeouts', 'sac_fly', 'sac_bunt']]\n",
    "\n",
    "off_second9 = off_relevant[['hits_to_run', 'ab', 'ops', 'avg', 'obs', 'slugging', \n",
    "                            'so_%', 'hr_%', 'walk_%']]\n",
    "\n",
    "off_rest = off_relevant[['sing/pa', 'doub/pa', 'trip/pa', 'hr/pa',\n",
    "                         'sac_fly', 'sac_bunt']]"
   ]
  },
  {
   "cell_type": "code",
   "execution_count": 58,
   "metadata": {},
   "outputs": [],
   "source": [
    "def_first9 = def_relevant[['singles', 'doubles', 'triples', 'home_runs', 'walks',\n",
    "                           'hits', 'strikeouts', 'sac_fly', 'sac_bunt']]\n",
    "\n",
    "def_second9 = def_relevant[['hits_to_run', 'ab', 'ops', 'avg', 'obs', 'slugging', \n",
    "                            'so_%', 'hr_%', 'walk_%']]\n",
    "\n",
    "def_rest = def_relevant[['sing/pa', 'doub/pa', 'trip/pa', 'hr/pa',\n",
    "                         'sac_fly', 'sac_bunt']]"
   ]
  },
  {
   "cell_type": "code",
   "execution_count": 65,
   "metadata": {},
   "outputs": [
    {
     "name": "stderr",
     "output_type": "stream",
     "text": [
      "<ipython-input-65-a6ae13a77ebf>:22: UserWarning: Tight layout not applied. tight_layout cannot make axes height small enough to accommodate all axes decorations\n",
      "  plt.tight_layout()\n"
     ]
    }
   ],
   "source": [
    "fig, ax = plt.subplots(nrows=9, ncols=3)\n",
    "ax_row=0\n",
    "ax_col=0\n",
    "runs = off_relevant['runs']\n",
    "\n",
    "for col in off_relevant.columns:\n",
    "    if ax_col >= 3:\n",
    "        ax_row += 1\n",
    "        ax_col = 0\n",
    "        \n",
    "        \n",
    "    ax[ax_row][ax_col].scatter(off_relevant[col], runs, s=10)\n",
    "    \n",
    "    ax[ax_row][ax_col].set_title(f'{col.capitalize()} to Runs (R = {off_corr_runs[col]})')\n",
    "    ax[ax_row][ax_col].set_ylabel('Runs')\n",
    "    ax[ax_row][ax_col].set_xlabel(col.capitalize())\n",
    "    \n",
    "    ax_col += 1\n",
    "            \n",
    "    \n",
    "    \n",
    "plt.tight_layout()\n",
    "plt.show()"
   ]
  },
  {
   "cell_type": "code",
   "execution_count": 249,
   "metadata": {},
   "outputs": [],
   "source": [
    "fig, ax = plt.subplots(nrows=3, ncols=3)\n",
    "ax_row=0\n",
    "ax_col=0\n",
    "runs = off_relevant['runs']\n",
    "\n",
    "for col in off_first9.columns:\n",
    "    if ax_col >= 3:\n",
    "        ax_row += 1\n",
    "        ax_col = 0\n",
    "        \n",
    "        \n",
    "    ax[ax_row][ax_col].scatter(off_relevant[col], runs, s=10)\n",
    "    \n",
    "    ax[ax_row][ax_col].set_title(f'{col.capitalize()} to Runs (R = {round(off_corr_runs[col],2)})')\n",
    "    ax[ax_row][ax_col].set_ylabel('Runs')\n",
    "    ax[ax_row][ax_col].set_xlabel(col.capitalize())\n",
    "    \n",
    "    ax_col += 1\n",
    "            \n",
    "    \n",
    "    \n",
    "plt.tight_layout()\n",
    "plt.show()"
   ]
  },
  {
   "cell_type": "code",
   "execution_count": 250,
   "metadata": {},
   "outputs": [],
   "source": [
    "fig, ax = plt.subplots(nrows=3, ncols=3)\n",
    "ax_row=0\n",
    "ax_col=0\n",
    "runs = off_relevant['runs']\n",
    "\n",
    "for col in off_second9.columns:\n",
    "    if ax_col >= 3:\n",
    "        ax_row += 1\n",
    "        ax_col = 0\n",
    "        \n",
    "        \n",
    "    ax[ax_row][ax_col].scatter(off_relevant[col], runs, s=10)\n",
    "    \n",
    "    ax[ax_row][ax_col].set_title(f'{col.capitalize()} to Runs (R = {round(off_corr_runs[col],2)})')\n",
    "    ax[ax_row][ax_col].set_ylabel('Runs')\n",
    "    ax[ax_row][ax_col].set_xlabel(col.capitalize())\n",
    "    \n",
    "    ax_col += 1\n",
    "            \n",
    "        \n",
    "plt.tight_layout()\n",
    "plt.show()"
   ]
  },
  {
   "cell_type": "code",
   "execution_count": 251,
   "metadata": {},
   "outputs": [],
   "source": [
    "fig, ax = plt.subplots(nrows=2, ncols=3)\n",
    "ax_row=0\n",
    "ax_col=0\n",
    "runs = off_relevant['runs']\n",
    "\n",
    "for col in off_rest.columns:\n",
    "    if ax_col >= 3:\n",
    "        ax_row += 1\n",
    "        ax_col = 0\n",
    "        \n",
    "        \n",
    "    ax[ax_row][ax_col].scatter(off_relevant[col], runs, s=10)\n",
    "    \n",
    "    ax[ax_row][ax_col].set_title(f'{col.capitalize()} to Runs (R = {round(off_corr_runs[col],2)})')\n",
    "    ax[ax_row][ax_col].set_ylabel('Runs')\n",
    "    ax[ax_row][ax_col].set_xlabel(col.capitalize())\n",
    "    \n",
    "    ax_col += 1\n",
    "            \n",
    "        \n",
    "plt.tight_layout()\n",
    "plt.show()"
   ]
  },
  {
   "cell_type": "code",
   "execution_count": 255,
   "metadata": {},
   "outputs": [],
   "source": [
    "fig, ax = plt.subplots(nrows=3, ncols=3)\n",
    "ax_row=0\n",
    "ax_col=0\n",
    "runs = def_relevant['runs']\n",
    "\n",
    "for col in def_first9.columns:\n",
    "    if ax_col >= 3:\n",
    "        ax_row += 1\n",
    "        ax_col = 0\n",
    "        \n",
    "        \n",
    "    ax[ax_row][ax_col].scatter(def_relevant[col], runs, s=10)\n",
    "    \n",
    "    ax[ax_row][ax_col].set_title(f'{col.capitalize()} to Runs (R = {round(def_corr_runs[col],2)})')\n",
    "    ax[ax_row][ax_col].set_ylabel('Runs')\n",
    "    ax[ax_row][ax_col].set_xlabel(col.capitalize())\n",
    "    \n",
    "    ax_col += 1\n",
    "            \n",
    "    \n",
    "    \n",
    "plt.tight_layout()\n",
    "plt.show()"
   ]
  },
  {
   "cell_type": "code",
   "execution_count": 256,
   "metadata": {},
   "outputs": [],
   "source": [
    "fig, ax = plt.subplots(nrows=3, ncols=3)\n",
    "ax_row=0\n",
    "ax_col=0\n",
    "runs = def_relevant['runs']\n",
    "\n",
    "for col in def_second9.columns:\n",
    "    if ax_col >= 3:\n",
    "        ax_row += 1\n",
    "        ax_col = 0\n",
    "        \n",
    "        \n",
    "    ax[ax_row][ax_col].scatter(def_relevant[col], runs, s=10)\n",
    "    \n",
    "    ax[ax_row][ax_col].set_title(f'{col.capitalize()} to Runs (R = {round(def_corr_runs[col],2)})')\n",
    "    ax[ax_row][ax_col].set_ylabel('Runs')\n",
    "    ax[ax_row][ax_col].set_xlabel(col.capitalize())\n",
    "    \n",
    "    ax_col += 1\n",
    "            \n",
    "        \n",
    "plt.tight_layout()\n",
    "plt.show()"
   ]
  },
  {
   "cell_type": "code",
   "execution_count": 257,
   "metadata": {},
   "outputs": [],
   "source": [
    "fig, ax = plt.subplots(nrows=2, ncols=3)\n",
    "ax_row=0\n",
    "ax_col=0\n",
    "runs = def_relevant['runs']\n",
    "\n",
    "for col in def_rest.columns:\n",
    "    if ax_col >= 3:\n",
    "        ax_row += 1\n",
    "        ax_col = 0\n",
    "        \n",
    "        \n",
    "    ax[ax_row][ax_col].scatter(def_relevant[col], runs, s=10)\n",
    "    \n",
    "    ax[ax_row][ax_col].set_title(f'{col.capitalize()} to Runs (R = {round(def_corr_runs[col],2)})')\n",
    "    ax[ax_row][ax_col].set_ylabel('Runs')\n",
    "    ax[ax_row][ax_col].set_xlabel(col.capitalize())\n",
    "    \n",
    "    ax_col += 1\n",
    "            \n",
    "        \n",
    "plt.tight_layout()\n",
    "plt.show()"
   ]
  },
  {
   "cell_type": "code",
   "execution_count": 18,
   "metadata": {
    "scrolled": true
   },
   "outputs": [
    {
     "data": {
      "text/html": [
       "<div>\n",
       "<style scoped>\n",
       "    .dataframe tbody tr th:only-of-type {\n",
       "        vertical-align: middle;\n",
       "    }\n",
       "\n",
       "    .dataframe tbody tr th {\n",
       "        vertical-align: top;\n",
       "    }\n",
       "\n",
       "    .dataframe thead th {\n",
       "        text-align: right;\n",
       "    }\n",
       "</style>\n",
       "<table border=\"1\" class=\"dataframe\">\n",
       "  <thead>\n",
       "    <tr style=\"text-align: right;\">\n",
       "      <th></th>\n",
       "      <th>team_id</th>\n",
       "      <th>team</th>\n",
       "      <th>year</th>\n",
       "      <th>wins</th>\n",
       "      <th>losses</th>\n",
       "      <th>win_%</th>\n",
       "      <th>runs_scored</th>\n",
       "      <th>runs_allowed</th>\n",
       "      <th>pythag_win_estimate</th>\n",
       "      <th>model_pythag_win_%</th>\n",
       "    </tr>\n",
       "  </thead>\n",
       "  <tbody>\n",
       "    <tr>\n",
       "      <th>0</th>\n",
       "      <td>201823</td>\n",
       "      <td>bal</td>\n",
       "      <td>2018</td>\n",
       "      <td>47</td>\n",
       "      <td>115</td>\n",
       "      <td>0.290123</td>\n",
       "      <td>622</td>\n",
       "      <td>892</td>\n",
       "      <td>0.327161</td>\n",
       "      <td>0.341790</td>\n",
       "    </tr>\n",
       "    <tr>\n",
       "      <th>1</th>\n",
       "      <td>201909</td>\n",
       "      <td>det</td>\n",
       "      <td>2019</td>\n",
       "      <td>47</td>\n",
       "      <td>113</td>\n",
       "      <td>0.293750</td>\n",
       "      <td>579</td>\n",
       "      <td>910</td>\n",
       "      <td>0.288171</td>\n",
       "      <td>0.305369</td>\n",
       "    </tr>\n",
       "    <tr>\n",
       "      <th>2</th>\n",
       "      <td>201923</td>\n",
       "      <td>bal</td>\n",
       "      <td>2019</td>\n",
       "      <td>54</td>\n",
       "      <td>107</td>\n",
       "      <td>0.335404</td>\n",
       "      <td>725</td>\n",
       "      <td>976</td>\n",
       "      <td>0.355584</td>\n",
       "      <td>0.368098</td>\n",
       "    </tr>\n",
       "    <tr>\n",
       "      <th>3</th>\n",
       "      <td>201903</td>\n",
       "      <td>mia</td>\n",
       "      <td>2019</td>\n",
       "      <td>56</td>\n",
       "      <td>104</td>\n",
       "      <td>0.350000</td>\n",
       "      <td>605</td>\n",
       "      <td>796</td>\n",
       "      <td>0.366156</td>\n",
       "      <td>0.377841</td>\n",
       "    </tr>\n",
       "    <tr>\n",
       "      <th>4</th>\n",
       "      <td>201806</td>\n",
       "      <td>kca</td>\n",
       "      <td>2018</td>\n",
       "      <td>58</td>\n",
       "      <td>104</td>\n",
       "      <td>0.358025</td>\n",
       "      <td>638</td>\n",
       "      <td>833</td>\n",
       "      <td>0.369726</td>\n",
       "      <td>0.381126</td>\n",
       "    </tr>\n",
       "  </tbody>\n",
       "</table>\n",
       "</div>"
      ],
      "text/plain": [
       "   team_id team  year  wins  losses     win_%  runs_scored  runs_allowed  \\\n",
       "0   201823  bal  2018    47     115  0.290123          622           892   \n",
       "1   201909  det  2019    47     113  0.293750          579           910   \n",
       "2   201923  bal  2019    54     107  0.335404          725           976   \n",
       "3   201903  mia  2019    56     104  0.350000          605           796   \n",
       "4   201806  kca  2018    58     104  0.358025          638           833   \n",
       "\n",
       "   pythag_win_estimate  model_pythag_win_%  \n",
       "0             0.327161            0.341790  \n",
       "1             0.288171            0.305369  \n",
       "2             0.355584            0.368098  \n",
       "3             0.366156            0.377841  \n",
       "4             0.369726            0.381126  "
      ]
     },
     "execution_count": 18,
     "metadata": {},
     "output_type": "execute_result"
    }
   ],
   "source": [
    "pythag_wins.head()"
   ]
  },
  {
   "cell_type": "code",
   "execution_count": 19,
   "metadata": {},
   "outputs": [],
   "source": [
    "goal_winrate90 = pythag_wins['win_%'].quantile(q=.9)\n",
    "goal_winrate80 = pythag_wins['win_%'].quantile(q=.8)\n",
    "goal_winrate70 = pythag_wins['win_%'].quantile(q=.7)"
   ]
  },
  {
   "cell_type": "code",
   "execution_count": 20,
   "metadata": {},
   "outputs": [
    {
     "data": {
      "text/plain": [
       "0.5991373360938578"
      ]
     },
     "execution_count": 20,
     "metadata": {},
     "output_type": "execute_result"
    }
   ],
   "source": [
    "goal_winrate90"
   ]
  },
  {
   "cell_type": "code",
   "execution_count": 21,
   "metadata": {},
   "outputs": [
    {
     "data": {
      "text/plain": [
       "0.5712565326062259"
      ]
     },
     "execution_count": 21,
     "metadata": {},
     "output_type": "execute_result"
    }
   ],
   "source": [
    "goal_winrate80"
   ]
  },
  {
   "cell_type": "code",
   "execution_count": 22,
   "metadata": {},
   "outputs": [
    {
     "data": {
      "text/plain": [
       "0.5493827160493827"
      ]
     },
     "execution_count": 22,
     "metadata": {},
     "output_type": "execute_result"
    }
   ],
   "source": [
    "goal_winrate70"
   ]
  },
  {
   "cell_type": "code",
   "execution_count": 23,
   "metadata": {},
   "outputs": [
    {
     "name": "stdout",
     "output_type": "stream",
     "text": [
      "Min: 573 Max: 942\n"
     ]
    }
   ],
   "source": [
    "print(f\"Min: {pythag_wins['runs_scored'].min()} Max: {pythag_wins['runs_scored'].max()}\")"
   ]
  },
  {
   "cell_type": "code",
   "execution_count": 24,
   "metadata": {},
   "outputs": [],
   "source": [
    "''' calculate runs allowed given runs scored and 'goal_winrate' '''\n",
    "\n",
    "def arithm_eq_ra(rs, wr):\n",
    "    return (((rs**1.81)/wr) - (rs**1.81))**(1/1.81)"
   ]
  },
  {
   "cell_type": "code",
   "execution_count": 25,
   "metadata": {},
   "outputs": [],
   "source": [
    "rs = np.arange(573, 943)"
   ]
  },
  {
   "cell_type": "code",
   "execution_count": 26,
   "metadata": {},
   "outputs": [
    {
     "data": {
      "image/png": "[encoded data removed]",
      "text/plain": [
       "<Figure size 432x288 with 1 Axes>"
      ]
     },
     "metadata": {
      "needs_background": "light"
     },
     "output_type": "display_data"
    }
   ],
   "source": [
    "plt.plot(rs, arithm_eq_ra(rs, goal_winrate70), color='blue', linewidth=3, label=f'Win Rate: {round(goal_winrate70,3)} (70th Percentile)')\n",
    "plt.plot(rs, arithm_eq_ra(rs, goal_winrate80), color='red', linewidth=3, label=f'Win Rate: {round(goal_winrate80, 3)} (80th Percentile)')\n",
    "plt.plot(rs, arithm_eq_ra(rs, goal_winrate90), color='black', linewidth=3, label=f'Win Rate: {round(goal_winrate90, 3)} (90th Percentile)')\n",
    "\n",
    "plt.xlabel('Runs Scored')\n",
    "plt.ylabel('Runs Allowed')\n",
    "plt.title(f'Runs Scored/Allowed By win Rate')\n",
    "plt.legend()\n",
    "plt.grid()\n",
    "plt.tight_layout()\n",
    "plt.show()"
   ]
  },
  {
   "cell_type": "code",
   "execution_count": 27,
   "metadata": {},
   "outputs": [
    {
     "data": {
      "text/plain": [
       "826.4999999999999"
      ]
     },
     "execution_count": 27,
     "metadata": {},
     "output_type": "execute_result"
    }
   ],
   "source": [
    "pythag_wins['runs_scored'].quantile(.9)"
   ]
  },
  {
   "cell_type": "code",
   "execution_count": 28,
   "metadata": {},
   "outputs": [
    {
     "data": {
      "text/plain": [
       "629.7"
      ]
     },
     "execution_count": 28,
     "metadata": {},
     "output_type": "execute_result"
    }
   ],
   "source": [
    "pythag_wins['runs_allowed'].quantile(.1)"
   ]
  },
  {
   "cell_type": "code",
   "execution_count": 29,
   "metadata": {},
   "outputs": [
    {
     "data": {
      "text/plain": [
       "617.4880183407417"
      ]
     },
     "execution_count": 29,
     "metadata": {},
     "output_type": "execute_result"
    }
   ],
   "source": [
    "arithm_eq_ra(771, goal_winrate90)"
   ]
  },
  {
   "cell_type": "code",
   "execution_count": 30,
   "metadata": {},
   "outputs": [
    {
     "data": {
      "text/plain": [
       "771.0"
      ]
     },
     "execution_count": 30,
     "metadata": {},
     "output_type": "execute_result"
    }
   ],
   "source": [
    "pythag_wins['runs_scored'].quantile(.75)"
   ]
  },
  {
   "cell_type": "code",
   "execution_count": 31,
   "metadata": {},
   "outputs": [
    {
     "data": {
      "text/plain": [
       "669.25"
      ]
     },
     "execution_count": 31,
     "metadata": {},
     "output_type": "execute_result"
    }
   ],
   "source": [
    "pythag_wins['runs_allowed'].quantile(.25)"
   ]
  },
  {
   "cell_type": "code",
   "execution_count": 32,
   "metadata": {},
   "outputs": [
    {
     "data": {
      "text/plain": [
       "657.9547103055388"
      ]
     },
     "execution_count": 32,
     "metadata": {},
     "output_type": "execute_result"
    }
   ],
   "source": [
    "arithm_eq_ra(771, goal_winrate80)"
   ]
  },
  {
   "cell_type": "code",
   "execution_count": 33,
   "metadata": {},
   "outputs": [
    {
     "data": {
      "text/plain": [
       "763.0"
      ]
     },
     "execution_count": 33,
     "metadata": {},
     "output_type": "execute_result"
    }
   ],
   "source": [
    "pythag_wins['runs_scored'].quantile(.7)"
   ]
  },
  {
   "cell_type": "code",
   "execution_count": 34,
   "metadata": {},
   "outputs": [
    {
     "data": {
      "text/plain": [
       "681.7"
      ]
     },
     "execution_count": 34,
     "metadata": {},
     "output_type": "execute_result"
    }
   ],
   "source": [
    "pythag_wins['runs_allowed'].quantile(.3)"
   ]
  },
  {
   "cell_type": "code",
   "execution_count": 35,
   "metadata": {},
   "outputs": [
    {
     "data": {
      "text/plain": [
       "691.0404481802274"
      ]
     },
     "execution_count": 35,
     "metadata": {},
     "output_type": "execute_result"
    }
   ],
   "source": [
    "arithm_eq_ra(771, goal_winrate70)"
   ]
  },
  {
   "cell_type": "code",
   "execution_count": 36,
   "metadata": {},
   "outputs": [],
   "source": [
    "from sklearn.model_selection import train_test_split\n",
    "from sklearn.linear_model import LinearRegression\n",
    "from sklearn.linear_model import Ridge"
   ]
  },
  {
   "cell_type": "code",
   "execution_count": 37,
   "metadata": {},
   "outputs": [
    {
     "data": {
      "text/plain": [
       "629.7"
      ]
     },
     "execution_count": 37,
     "metadata": {},
     "output_type": "execute_result"
    }
   ],
   "source": [
    "def_relevant['runs'].quantile(.1)"
   ]
  },
  {
   "cell_type": "code",
   "execution_count": 38,
   "metadata": {},
   "outputs": [],
   "source": [
    "X, y = def_relevant['slugging'].values.reshape((-1,1)), def_relevant['runs'].values.reshape((-1,1))"
   ]
  },
  {
   "cell_type": "code",
   "execution_count": 39,
   "metadata": {},
   "outputs": [],
   "source": [
    "X_train, X_test, y_train, y_test = train_test_split(X, y, test_size=.2)"
   ]
  },
  {
   "cell_type": "code",
   "execution_count": 40,
   "metadata": {},
   "outputs": [
    {
     "data": {
      "text/plain": [
       "(120, 1)"
      ]
     },
     "execution_count": 40,
     "metadata": {},
     "output_type": "execute_result"
    }
   ],
   "source": [
    "X_train.shape"
   ]
  },
  {
   "cell_type": "code",
   "execution_count": 41,
   "metadata": {},
   "outputs": [],
   "source": [
    "lin_reg = LinearRegression()\n",
    "model = lin_reg.fit(X_train, y_train)\n",
    "predictions = model.predict(X_test)"
   ]
  },
  {
   "cell_type": "code",
   "execution_count": 42,
   "metadata": {
    "scrolled": false
   },
   "outputs": [
    {
     "name": "stdout",
     "output_type": "stream",
     "text": [
      "R^2 value: 0.8839152951060703\n",
      "coef: [[2640.54413163]]\n",
      "Intercept: [-464.88551129]\n"
     ]
    }
   ],
   "source": [
    "print(f'R^2 value: {lin_reg.score(X, y)}')\n",
    "print(f'coef: {lin_reg.coef_}')\n",
    "print(f'Intercept: {lin_reg.intercept_}')"
   ]
  },
  {
   "cell_type": "code",
   "execution_count": 43,
   "metadata": {},
   "outputs": [
    {
     "data": {
      "text/plain": [
       "Index(['singles', 'doubles', 'triples', 'home_runs', 'walks', 'sac_fly',\n",
       "       'sac_bunt', 'strikeouts', 'outs', 'r_o_error', 'runs',\n",
       "       'plate_appearances', 'sing/pa', 'doub/pa', 'trip/pa', 'hr/pa', 'hits',\n",
       "       'ab', 'avg', 'obs', 'slugging', 'ops', 'so_%', 'hr_%', 'walk_%',\n",
       "       'hits_to_run'],\n",
       "      dtype='object')"
      ]
     },
     "execution_count": 43,
     "metadata": {},
     "output_type": "execute_result"
    }
   ],
   "source": [
    "off_relevant.columns"
   ]
  },
  {
   "cell_type": "code",
   "execution_count": 44,
   "metadata": {},
   "outputs": [],
   "source": [
    "X = off_relevant[['singles', 'doubles', 'triples', 'home_runs', 'walks', 'sac_fly',\n",
    "       'sac_bunt', 'strikeouts', 'hits', 'ab', 'ops', 'avg', 'obs', 'slugging']].values.reshape(150,14)\n",
    "y = off_relevant['runs'].values.reshape(-1,1)"
   ]
  },
  {
   "cell_type": "code",
   "execution_count": 45,
   "metadata": {},
   "outputs": [
    {
     "data": {
      "text/plain": [
       "(150, 14)"
      ]
     },
     "execution_count": 45,
     "metadata": {},
     "output_type": "execute_result"
    }
   ],
   "source": [
    "X.shape"
   ]
  },
  {
   "cell_type": "code",
   "execution_count": 46,
   "metadata": {},
   "outputs": [],
   "source": [
    "X_train, X_test, y_train, y_test = train_test_split(X, y, test_size=.2)"
   ]
  },
  {
   "cell_type": "code",
   "execution_count": 47,
   "metadata": {},
   "outputs": [],
   "source": [
    "ridge_reg = Ridge()\n",
    "model = ridge_reg.fit(X_train, y_train)\n",
    "predictions = model.predict(X_test)"
   ]
  },
  {
   "cell_type": "code",
   "execution_count": 48,
   "metadata": {},
   "outputs": [
    {
     "name": "stdout",
     "output_type": "stream",
     "text": [
      "Coefficients: [[-0.28481729 -0.23622961  0.20211175  0.28783315  0.0455     -0.8182855\n",
      "  -0.77579529  0.08066435 -0.031102    0.18093769 -0.79484984 -0.24088282\n",
      "  -0.32282272 -0.47202712]]\n",
      "R^2: 0.2617935875291948\n",
      "Intercept: [40.32438244]\n"
     ]
    }
   ],
   "source": [
    "print(f'Coefficients: {ridge_reg.coef_}')\n",
    "print(f'R^2: {ridge_reg.score(X, y)}')\n",
    "print(f'Intercept: {ridge_reg.intercept_}')"
   ]
  }
 ],
 "metadata": {
  "kernelspec": {
   "display_name": "Python 3",
   "language": "python",
   "name": "python3"
  },
  "language_info": {
   "codemirror_mode": {
    "name": "ipython",
    "version": 3
   },
   "file_extension": ".py",
   "mimetype": "text/x-python",
   "name": "python",
   "nbconvert_exporter": "python",
   "pygments_lexer": "ipython3",
   "version": "3.8.5"
  }
 },
 "nbformat": 4,
 "nbformat_minor": 4
}
